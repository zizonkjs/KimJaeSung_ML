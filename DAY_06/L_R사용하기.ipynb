{
 "cells": [
  {
   "cell_type": "markdown",
   "metadata": {},
   "source": [
    "#### 로지스틱 회귀\n",
    "- 선형 모델 기반으로 분류를 해주는 모델\n",
    "- 종속변수 즉 타겟이 범주형 인 경우에 적용\n",
    "- 결과를 확률로 변환해서 처리해줌\n",
    "- 종류  \n",
    "    -이진 분류 : 타겟의 클래스가 2개  \n",
    "    -다중 분류 : 타겟의 클래스가 3개 이상  \n",
    "    "
   ]
  },
  {
   "cell_type": "code",
   "execution_count": 56,
   "metadata": {},
   "outputs": [
    {
     "data": {
      "text/html": [
       "<div>\n",
       "<style scoped>\n",
       "    .dataframe tbody tr th:only-of-type {\n",
       "        vertical-align: middle;\n",
       "    }\n",
       "\n",
       "    .dataframe tbody tr th {\n",
       "        vertical-align: top;\n",
       "    }\n",
       "\n",
       "    .dataframe thead th {\n",
       "        text-align: right;\n",
       "    }\n",
       "</style>\n",
       "<table border=\"1\" class=\"dataframe\">\n",
       "  <thead>\n",
       "    <tr style=\"text-align: right;\">\n",
       "      <th></th>\n",
       "      <th>Species</th>\n",
       "      <th>Weight</th>\n",
       "      <th>Length</th>\n",
       "      <th>Diagonal</th>\n",
       "      <th>Height</th>\n",
       "      <th>Width</th>\n",
       "    </tr>\n",
       "  </thead>\n",
       "  <tbody>\n",
       "    <tr>\n",
       "      <th>0</th>\n",
       "      <td>Bream</td>\n",
       "      <td>242.00000</td>\n",
       "      <td>25.40000</td>\n",
       "      <td>30.00000</td>\n",
       "      <td>11.52000</td>\n",
       "      <td>4.02000</td>\n",
       "    </tr>\n",
       "    <tr>\n",
       "      <th>1</th>\n",
       "      <td>Bream</td>\n",
       "      <td>290.00000</td>\n",
       "      <td>26.30000</td>\n",
       "      <td>31.20000</td>\n",
       "      <td>12.48000</td>\n",
       "      <td>4.30560</td>\n",
       "    </tr>\n",
       "    <tr>\n",
       "      <th>2</th>\n",
       "      <td>Bream</td>\n",
       "      <td>340.00000</td>\n",
       "      <td>26.50000</td>\n",
       "      <td>31.10000</td>\n",
       "      <td>12.37780</td>\n",
       "      <td>4.69610</td>\n",
       "    </tr>\n",
       "    <tr>\n",
       "      <th>3</th>\n",
       "      <td>Bream</td>\n",
       "      <td>363.00000</td>\n",
       "      <td>29.00000</td>\n",
       "      <td>33.50000</td>\n",
       "      <td>12.73000</td>\n",
       "      <td>4.45550</td>\n",
       "    </tr>\n",
       "    <tr>\n",
       "      <th>4</th>\n",
       "      <td>Bream</td>\n",
       "      <td>430.00000</td>\n",
       "      <td>29.00000</td>\n",
       "      <td>34.00000</td>\n",
       "      <td>12.44400</td>\n",
       "      <td>5.13400</td>\n",
       "    </tr>\n",
       "  </tbody>\n",
       "</table>\n",
       "</div>"
      ],
      "text/plain": [
       "  Species    Weight   Length  Diagonal   Height   Width\n",
       "0   Bream 242.00000 25.40000  30.00000 11.52000 4.02000\n",
       "1   Bream 290.00000 26.30000  31.20000 12.48000 4.30560\n",
       "2   Bream 340.00000 26.50000  31.10000 12.37780 4.69610\n",
       "3   Bream 363.00000 29.00000  33.50000 12.73000 4.45550\n",
       "4   Bream 430.00000 29.00000  34.00000 12.44400 5.13400"
      ]
     },
     "execution_count": 56,
     "metadata": {},
     "output_type": "execute_result"
    }
   ],
   "source": [
    "import pandas as pd\n",
    "\n",
    "# 판다스에 지수표기법(과학적표기법) 정지 설정\n",
    "pd.options.display.float_format = '{:.5f}'.format\n",
    "\n",
    "\n",
    "# 데이터 준비\n",
    "DATA_FILE = '../data/fish.csv'\n",
    "fishdf = pd.read_csv(DATA_FILE)\n",
    "fishdf.head()"
   ]
  },
  {
   "cell_type": "code",
   "execution_count": 57,
   "metadata": {},
   "outputs": [
    {
     "name": "stdout",
     "output_type": "stream",
     "text": [
      "['Bream' 'Roach' 'Whitefish' 'Parkki' 'Perch' 'Pike' 'Smelt']\n",
      "[[242.      25.4     30.      11.52     4.02  ]\n",
      " [290.      26.3     31.2     12.48     4.3056]\n",
      " [340.      26.5     31.1     12.3778   4.6961]\n",
      " [363.      29.      33.5     12.73     4.4555]\n",
      " [430.      29.      34.      12.444    5.134 ]]\n"
     ]
    }
   ],
   "source": [
    "# 타겟/종속 변수의 클래스수 -> 7개\n",
    "print(pd.unique(fishdf['Species']))\n",
    "featuredf = fishdf[fishdf.columns[1:]].to_numpy()\n",
    "# fishdf.columns[1:]\n",
    "print(featuredf[:5])"
   ]
  },
  {
   "cell_type": "code",
   "execution_count": 58,
   "metadata": {},
   "outputs": [
    {
     "name": "stdout",
     "output_type": "stream",
     "text": [
      "['Bream' 'Bream' 'Bream' 'Bream' 'Bream' 'Bream' 'Bream' 'Bream' 'Bream'\n",
      " 'Bream' 'Bream' 'Bream' 'Bream' 'Bream' 'Bream' 'Bream' 'Bream' 'Bream'\n",
      " 'Bream' 'Bream' 'Bream' 'Bream' 'Bream' 'Bream' 'Bream' 'Bream' 'Bream'\n",
      " 'Bream' 'Bream' 'Bream' 'Bream' 'Bream' 'Bream' 'Bream' 'Bream' 'Roach'\n",
      " 'Roach' 'Roach' 'Roach' 'Roach' 'Roach' 'Roach' 'Roach' 'Roach' 'Roach'\n",
      " 'Roach' 'Roach' 'Roach' 'Roach' 'Roach' 'Roach' 'Roach' 'Roach' 'Roach'\n",
      " 'Roach' 'Whitefish' 'Whitefish' 'Whitefish' 'Whitefish' 'Whitefish'\n",
      " 'Whitefish' 'Parkki' 'Parkki' 'Parkki' 'Parkki' 'Parkki' 'Parkki'\n",
      " 'Parkki' 'Parkki' 'Parkki' 'Parkki' 'Parkki' 'Perch' 'Perch' 'Perch'\n",
      " 'Perch' 'Perch' 'Perch' 'Perch' 'Perch' 'Perch' 'Perch' 'Perch' 'Perch'\n",
      " 'Perch' 'Perch' 'Perch' 'Perch' 'Perch' 'Perch' 'Perch' 'Perch' 'Perch'\n",
      " 'Perch' 'Perch' 'Perch' 'Perch' 'Perch' 'Perch' 'Perch' 'Perch' 'Perch'\n",
      " 'Perch' 'Perch' 'Perch' 'Perch' 'Perch' 'Perch' 'Perch' 'Perch' 'Perch'\n",
      " 'Perch' 'Perch' 'Perch' 'Perch' 'Perch' 'Perch' 'Perch' 'Perch' 'Perch'\n",
      " 'Perch' 'Perch' 'Perch' 'Perch' 'Perch' 'Perch' 'Perch' 'Perch' 'Pike'\n",
      " 'Pike' 'Pike' 'Pike' 'Pike' 'Pike' 'Pike' 'Pike' 'Pike' 'Pike' 'Pike'\n",
      " 'Pike' 'Pike' 'Pike' 'Pike' 'Pike' 'Pike' 'Smelt' 'Smelt' 'Smelt' 'Smelt'\n",
      " 'Smelt' 'Smelt' 'Smelt' 'Smelt' 'Smelt' 'Smelt' 'Smelt' 'Smelt' 'Smelt'\n",
      " 'Smelt']\n"
     ]
    }
   ],
   "source": [
    "target = fishdf['Species'].to_numpy()\n",
    "print(target)"
   ]
  },
  {
   "cell_type": "code",
   "execution_count": null,
   "metadata": {},
   "outputs": [],
   "source": []
  },
  {
   "cell_type": "code",
   "execution_count": 59,
   "metadata": {},
   "outputs": [],
   "source": [
    "from sklearn.model_selection import train_test_split\n",
    "\n",
    "X_train, X_test, y_train, y_test = train_test_split(featuredf, target, random_state=10, stratify=target)"
   ]
  },
  {
   "cell_type": "code",
   "execution_count": 60,
   "metadata": {},
   "outputs": [],
   "source": [
    "from sklearn.preprocessing import StandardScaler\n",
    "\n",
    "#학습용 기반 스케일러 생성\n",
    "model = StandardScaler()\n",
    "model.fit(X_train)\n",
    "\n",
    "# 스케일링\n",
    "train_scaled = model.transform(X_train)\n",
    "test_scaled = model.transform(X_test)"
   ]
  },
  {
   "cell_type": "markdown",
   "metadata": {},
   "source": [
    "### 로지스틱 회귀\n",
    "- 학습 진행\n",
    "- 학습 방법 : 지도 학습의 분류\n",
    "- 학습 알고리즘 : 로지스틱 회귀"
   ]
  },
  {
   "cell_type": "code",
   "execution_count": 61,
   "metadata": {},
   "outputs": [
    {
     "data": {
      "image/png": "[encoded data removed]",
      "text/plain": [
       "<Figure size 640x480 with 1 Axes>"
      ]
     },
     "metadata": {},
     "output_type": "display_data"
    },
    {
     "name": "stdout",
     "output_type": "stream",
     "text": [
      "z -> [-5.  -4.9 -4.8 -4.7 -4.6 -4.5 -4.4 -4.3 -4.2 -4.1 -4.  -3.9 -3.8 -3.7\n",
      " -3.6 -3.5 -3.4 -3.3 -3.2 -3.1 -3.  -2.9 -2.8 -2.7 -2.6 -2.5 -2.4 -2.3\n",
      " -2.2 -2.1 -2.  -1.9 -1.8 -1.7 -1.6 -1.5 -1.4 -1.3 -1.2 -1.1 -1.  -0.9\n",
      " -0.8 -0.7 -0.6 -0.5 -0.4 -0.3 -0.2 -0.1 -0.   0.1  0.2  0.3  0.4  0.5\n",
      "  0.6  0.7  0.8  0.9  1.   1.1  1.2  1.3  1.4  1.5  1.6  1.7  1.8  1.9\n",
      "  2.   2.1  2.2  2.3  2.4  2.5  2.6  2.7  2.8  2.9  3.   3.1  3.2  3.3\n",
      "  3.4  3.5  3.6  3.7  3.8  3.9  4.   4.1  4.2  4.3  4.4  4.5  4.6  4.7\n",
      "  4.8  4.9]\n",
      " phi = [0.006693 0.007392 0.008163 0.009013 0.009952 0.010987 0.012128 0.013387\n",
      " 0.014774 0.016302 0.017986 0.01984  0.021881 0.024127 0.026597 0.029312\n",
      " 0.032295 0.035571 0.039166 0.043107 0.047426 0.052154 0.057324 0.062973\n",
      " 0.069138 0.075858 0.083173 0.091123 0.09975  0.109097 0.119203 0.130108\n",
      " 0.141851 0.154465 0.167982 0.182426 0.197816 0.214165 0.231475 0.24974\n",
      " 0.268941 0.28905  0.310026 0.331812 0.354344 0.377541 0.401312 0.425557\n",
      " 0.450166 0.475021 0.5      0.524979 0.549834 0.574443 0.598688 0.622459\n",
      " 0.645656 0.668188 0.689974 0.71095  0.731059 0.75026  0.768525 0.785835\n",
      " 0.802184 0.817574 0.832018 0.845535 0.858149 0.869892 0.880797 0.890903\n",
      " 0.90025  0.908877 0.916827 0.924142 0.930862 0.937027 0.942676 0.947846\n",
      " 0.952574 0.956893 0.960834 0.964429 0.967705 0.970688 0.973403 0.975873\n",
      " 0.978119 0.98016  0.982014 0.983698 0.985226 0.986613 0.987872 0.989013\n",
      " 0.990048 0.990987 0.991837 0.992608]\n"
     ]
    }
   ],
   "source": [
    "import numpy as np\n",
    "import matplotlib.pyplot as plt\n",
    "\n",
    "np.set_printoptions(precision=6, suppress=True)\n",
    "\n",
    "# 선형식의 결과값 -> 0.0~1.0 범위의 확률 값으로 바꾸겠다.\n",
    "z = np.arange(-5, 5, 0.1) # -5.0 <= ~ <5.0\n",
    "phi = 1 / (1 + np.exp(-z)) #p 확률 값\n",
    "\n",
    "plt.plot(z, phi)\n",
    "plt.xlabel('Z')\n",
    "plt.show()\n",
    "\n",
    "print(f'z -> {z}\\n phi = {phi}')"
   ]
  },
  {
   "cell_type": "code",
   "execution_count": 62,
   "metadata": {},
   "outputs": [],
   "source": [
    "# 로지스틱 회귀로 이진 분류 수행하기\n"
   ]
  },
  {
   "cell_type": "code",
   "execution_count": 63,
   "metadata": {},
   "outputs": [
    {
     "name": "stdout",
     "output_type": "stream",
     "text": [
      "['A' 'C']\n"
     ]
    }
   ],
   "source": [
    "# Boolean Index\n",
    "char_arr = np.array(['A','B','C','D','E'])\n",
    "print(char_arr[[True, False, True, False, False]])"
   ]
  },
  {
   "cell_type": "code",
   "execution_count": 64,
   "metadata": {},
   "outputs": [],
   "source": [
    "## 2진 분류 -> 2개 품종의 데이터셋 추출\n",
    "mask = (y_train == 'Bream') | (y_train == 'Smelt')\n",
    "\n",
    "train_bream_smelt = train_scaled[mask]\n",
    "target_bream_smelt = y_train[mask]\n",
    "\n",
    "mask = (y_test == 'Bream') | (y_test == 'Smelt')\n",
    "test_bream_smelt = test_scaled[mask]\n",
    "test_target_bream_smelt = y_test[mask]"
   ]
  },
  {
   "cell_type": "code",
   "execution_count": 65,
   "metadata": {},
   "outputs": [
    {
     "name": "stdout",
     "output_type": "stream",
     "text": [
      "classes_ : ['Bream' 'Smelt']\n",
      "n_features_in_: 5\n",
      "n_iter_ : [13]\n",
      "coef_: [[-0.443163 -0.600773 -0.684162 -1.027121 -0.767243]]\n",
      "intercept_ : [-2.230105]\n",
      "\n",
      " 1.0  1.0\n",
      "\n",
      "['Smelt' 'Smelt' 'Bream' 'Bream' 'Bream']\n",
      "['Bream' 'Smelt']\n",
      "[[0.03185  0.96815 ]\n",
      " [0.070079 0.929921]\n",
      " [0.999494 0.000506]\n",
      " [0.934717 0.065283]\n",
      " [0.994045 0.005955]]\n",
      "\n",
      "[ 3.414347  2.585481 -7.588453 -2.66151  -5.117616]\n"
     ]
    }
   ],
   "source": [
    "# 학습진행\n",
    "from sklearn.linear_model import LogisticRegression\n",
    "lr = LogisticRegression()\n",
    "lr.fit(train_bream_smelt, target_bream_smelt)\n",
    "\n",
    "print(f'classes_ : {lr.classes_}')\n",
    "print(f'n_features_in_: {lr.n_features_in_}')\n",
    "print(f'n_iter_ : {lr.n_iter_}')\n",
    "print(f'coef_: {lr.coef_}')\n",
    "print(f'intercept_ : {lr.intercept_}')\n",
    "\n",
    "# 모델의 성능 -> train과 test에 대한 분류의 정확도 확인\n",
    "# 내부에서 predict 호출 -> 예측값과 target 값 비교\n",
    "train_score = lr.score(train_bream_smelt, target_bream_smelt)\n",
    "test_score = lr.score(test_bream_smelt, test_target_bream_smelt)\n",
    "\n",
    "print()\n",
    "\n",
    "print(f' {train_score}  {test_score}')\n",
    "\n",
    "# 테스팅 진행\n",
    "# predict(피쳐)\n",
    "# - predict() : 예측 클래스 반환\n",
    "# - predict_proba() : 각 클래스별 확률 값\n",
    "# - decision_funtion : 피쳐와 coef_ 곱셈 합계 + intercept_ 한 결과 값\n",
    "\n",
    "print()\n",
    "\n",
    "print(lr.predict(train_bream_smelt[:5]))\n",
    "print(lr.classes_, lr.predict_proba(train_bream_smelt[:5]), sep='\\n')\n",
    "\n",
    "print()\n",
    "\n",
    "# y = F1*coef_[0] + 컬럼*coef_[1] +...+ 컬럼*coef_[4] -> 커피션트 다 곱한거\n",
    "# F1 = 'Weight'\n",
    "decisions = lr.decision_function(train_bream_smelt[:5])\n",
    "print(decisions)"
   ]
  },
  {
   "cell_type": "code",
   "execution_count": 66,
   "metadata": {},
   "outputs": [
    {
     "name": "stdout",
     "output_type": "stream",
     "text": [
      "[0.96815  0.929921 0.000506 0.065283 0.005955]\n",
      "[[0.03185  0.96815 ]\n",
      " [0.070079 0.929921]\n",
      " [0.999494 0.000506]\n",
      " [0.934717 0.065283]\n",
      " [0.994045 0.005955]]\n",
      "['Smelt' 'Smelt' 'Bream' 'Bream' 'Bream']\n"
     ]
    }
   ],
   "source": [
    "# 선형식 결과값 -> 확률 변환 , 클래스가 1인 것에 대한 확률 계산\n",
    "from scipy.special import expit\n",
    "print(expit(decisions))\n",
    "\n",
    "\n",
    "print(lr.predict_proba(train_bream_smelt[:5]))\n",
    "print(lr.predict(train_bream_smelt[:5]))"
   ]
  },
  {
   "cell_type": "markdown",
   "metadata": {},
   "source": [
    "### 로지스틱 회귀로 다중 분류 수행하기\n"
   ]
  },
  {
   "cell_type": "code",
   "execution_count": 68,
   "metadata": {},
   "outputs": [
    {
     "name": "stdout",
     "output_type": "stream",
     "text": [
      "[LogisticRegression(max_iter=1000), LogisticRegression(max_iter=1000), LogisticRegression(max_iter=1000), LogisticRegression(max_iter=1000), LogisticRegression(max_iter=1000), LogisticRegression(max_iter=1000), LogisticRegression(max_iter=1000)]\n",
      "['Bream' 'Parkki' 'Perch' 'Pike' 'Roach' 'Smelt' 'Whitefish']\n",
      "7\n",
      "[0 분류기] [[-0.014442 -0.596079  0.895693  1.630172  0.006896]] [-25.674484]\n",
      "[1 분류기] [[-0.021971  0.27047  -0.876247  2.182859 -0.10419 ]] [-0.335551]\n",
      "[2 분류기] [[-0.001612  2.535281 -2.623366 -0.044586  2.12291 ]] [-0.262153]\n",
      "[3 분류기] [[-0.020627  0.522572  0.652138 -0.54899  -0.145613]] [-29.896075]\n",
      "[4 분류기] [[-0.033032 -1.424856  1.559057 -0.264718  1.842121]] [-7.265598]\n",
      "[5 분류기] [[-0.080179  0.150523  0.284997 -1.503039 -0.717767]] [1.675293]\n",
      "[6 분류기] [[ 0.001316 -0.267125  0.184426 -0.143248  0.602584]] [-3.306768]\n",
      "[[  5.110919  -4.341704  -6.53204  -10.578214  -8.490762 -58.2226\n",
      "   -3.053428]\n",
      " [  6.337838  -7.555448  -7.870693  -9.751023 -10.498159 -68.46438\n",
      "   -2.854831]]\n",
      "[0.943431 0.9474  ]\n",
      "[0 0]\n"
     ]
    }
   ],
   "source": [
    "# OvR 방식 (5개 : 2진 분류 5번, 10개 : 2진 분류 10번, n개 : 2진 분류 n번)\n",
    "# OvO 방식(5개 분류 -> 5 * (5-1)/2 = 10개의 2진분류, 10개 분류 -> 10*(10-1)/2 = 45개의 2진분류)\n",
    "# OvR, OvA\n",
    "# 클래스마다 이진 분류기 만들어서 가장 높은 결정점수 낸 클래스 선택\n",
    "from sklearn.multiclass import OneVsRestClassifier\n",
    "from sklearn.linear_model import LogisticRegression\n",
    "\n",
    "# 모델 생성\n",
    "ovr_clf = OneVsRestClassifier(LogisticRegression(max_iter=1000))\n",
    "ovr_clf.fit(X_train, y_train)\n",
    "\n",
    "# 모델 파라미터 출력\n",
    "print(ovr_clf.estimators_)\n",
    "print(ovr_clf.classes_)\n",
    "print(ovr_clf.n_classes_)\n",
    "\n",
    "# 각 이진 분류기의 회귀 계수와 절편을 출력\n",
    "for idx in range(ovr_clf.n_classes_):\n",
    "    print(f'[{idx} 분류기]', ovr_clf.estimators_[idx].coef_, ovr_clf.estimators_[idx].intercept_)\n",
    "\n",
    "# 결정 점수를 구하고 예측값을 출력\n",
    "decision_scores = ovr_clf.decision_function(X_test[:2])\n",
    "print(decision_scores)\n",
    "\n",
    "# 예측 확률 출력\n",
    "proba = ovr_clf.predict_proba(X_test[:2])\n",
    "print(proba.max(axis=1))  # 각 샘플에서 가장 높은 확률\n",
    "print(proba.argmax(axis=1))  # 각 샘플에서 가장 높은 확률을 가진 클래스의 인덱스\n",
    "\n",
    "\n"
   ]
  },
  {
   "cell_type": "code",
   "execution_count": null,
   "metadata": {},
   "outputs": [],
   "source": []
  }
 ],
 "metadata": {
  "kernelspec": {
   "display_name": "ML_38",
   "language": "python",
   "name": "python3"
  },
  "language_info": {
   "codemirror_mode": {
    "name": "ipython",
    "version": 3
   },
   "file_extension": ".py",
   "mimetype": "text/x-python",
   "name": "python",
   "nbconvert_exporter": "python",
   "pygments_lexer": "ipython3",
   "version": "3.8.19"
  }
 },
 "nbformat": 4,
 "nbformat_minor": 2
}
