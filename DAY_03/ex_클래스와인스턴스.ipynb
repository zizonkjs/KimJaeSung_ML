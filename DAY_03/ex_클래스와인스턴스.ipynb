{
 "cells": [
  {
   "cell_type": "markdown",
   "metadata": {},
   "source": [
    "#### 클래스와 인스턴스"
   ]
  },
  {
   "cell_type": "code",
   "execution_count": 8,
   "metadata": {},
   "outputs": [
    {
     "data": {
      "text/plain": [
       "[[37],\n",
       " [3],\n",
       " [28],\n",
       " [31],\n",
       " [37],\n",
       " [1],\n",
       " [14],\n",
       " [30],\n",
       " [32],\n",
       " [18],\n",
       " [42],\n",
       " [11],\n",
       " [3],\n",
       " [34],\n",
       " [32],\n",
       " [21],\n",
       " [5],\n",
       " [16],\n",
       " [48],\n",
       " [24],\n",
       " [3],\n",
       " [27],\n",
       " [9],\n",
       " [39],\n",
       " [23],\n",
       " [25],\n",
       " [27],\n",
       " [19],\n",
       " [44],\n",
       " [17]]"
      ]
     },
     "execution_count": 8,
     "metadata": {},
     "output_type": "execute_result"
    }
   ],
   "source": [
    "# 임시 데이터\n",
    "import random\n",
    "\n",
    "random.seed(10)\n",
    "x=[]\n",
    "for _ in range(30):\n",
    "    x.append([random.randint(1,50)])\n",
    "x\n",
    "    "
   ]
  },
  {
   "cell_type": "code",
   "execution_count": 11,
   "metadata": {},
   "outputs": [
    {
     "data": {
      "text/plain": [
       "([1], 48)"
      ]
     },
     "execution_count": 11,
     "metadata": {},
     "output_type": "execute_result"
    }
   ],
   "source": [
    "# scaler에서 fit() 진행시 하는 연산\n",
    "min(x), max(x)[0]"
   ]
  },
  {
   "cell_type": "code",
   "execution_count": 12,
   "metadata": {},
   "outputs": [],
   "source": [
    "### 0~1 사이의 값으로 변환\n",
    "# 스케일러에서 transform()시에 0~1 값으로 변환\n",
    "res=[d[0]/max(x)[0] for d in x]"
   ]
  },
  {
   "cell_type": "code",
   "execution_count": 13,
   "metadata": {},
   "outputs": [
    {
     "data": {
      "text/plain": [
       "[0.7708333333333334,\n",
       " 0.0625,\n",
       " 0.5833333333333334,\n",
       " 0.6458333333333334,\n",
       " 0.7708333333333334,\n",
       " 0.020833333333333332,\n",
       " 0.2916666666666667,\n",
       " 0.625,\n",
       " 0.6666666666666666,\n",
       " 0.375,\n",
       " 0.875,\n",
       " 0.22916666666666666,\n",
       " 0.0625,\n",
       " 0.7083333333333334,\n",
       " 0.6666666666666666,\n",
       " 0.4375,\n",
       " 0.10416666666666667,\n",
       " 0.3333333333333333,\n",
       " 1.0,\n",
       " 0.5,\n",
       " 0.0625,\n",
       " 0.5625,\n",
       " 0.1875,\n",
       " 0.8125,\n",
       " 0.4791666666666667,\n",
       " 0.5208333333333334,\n",
       " 0.5625,\n",
       " 0.3958333333333333,\n",
       " 0.9166666666666666,\n",
       " 0.3541666666666667]"
      ]
     },
     "execution_count": 13,
     "metadata": {},
     "output_type": "execute_result"
    }
   ],
   "source": [
    "res"
   ]
  },
  {
   "cell_type": "code",
   "execution_count": 14,
   "metadata": {},
   "outputs": [
    {
     "data": {
      "text/plain": [
       "(0.020833333333333332, 1.0)"
      ]
     },
     "execution_count": 14,
     "metadata": {},
     "output_type": "execute_result"
    }
   ],
   "source": [
    "min(res), max(res)"
   ]
  },
  {
   "cell_type": "code",
   "execution_count": null,
   "metadata": {},
   "outputs": [],
   "source": [
    " "
   ]
  }
 ],
 "metadata": {
  "kernelspec": {
   "display_name": "ML_38",
   "language": "python",
   "name": "python3"
  },
  "language_info": {
   "codemirror_mode": {
    "name": "ipython",
    "version": 3
   },
   "file_extension": ".py",
   "mimetype": "text/x-python",
   "name": "python",
   "nbconvert_exporter": "python",
   "pygments_lexer": "ipython3",
   "version": "3.8.19"
  }
 },
 "nbformat": 4,
 "nbformat_minor": 2
}
