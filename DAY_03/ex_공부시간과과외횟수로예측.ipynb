{
 "cells": [
  {
   "cell_type": "markdown",
   "metadata": {},
   "source": [
    "#### 공부시간과 과외 횟수에 따른 점수 예측하기\n",
    "- 목표 : 공부시간과 과외횟수가 가지는 패턴/규칙을 찾아서 점수를 예측\n",
    "- 데이터셋 : 임의로 생성\n",
    "- 피쳐/속성 : 공부시간, 과외 횟수\n",
    "- 타겟 : 점수\n",
    "- 학습방법 : 지도학습 -> 회귀\n",
    "- 알고리즘 : 선형회귀 -> 조건 데이터분포가 선형일 때 가능"
   ]
  },
  {
   "cell_type": "code",
   "execution_count": 2,
   "metadata": {},
   "outputs": [],
   "source": [
    "# 규칙 / 패턴 -> 공부시간과 과외횟수에 점수결정\n",
    "# 공부시간과 과외시간이 얼마나 점수에 영향을 미치는지\n",
    "# 피쳐가 2개 들어감 \n",
    "# 점수 = (공부시간 * 기울기값[가중치]) + (과외횟수* 기울기값[가중치]) + 절편\n",
    "# y = ax + bx + c 를 구하면 점수를 예측할 수 있다.\n",
    "# 피쳐가 늘어갈 수록 각각의 피쳐들이 정수에 영향을 미치는지는 달라짐\n",
    "# 피쳐가 늘어가는걸 다변량 -> 피쳐가 많은걸 다중선형회귀라고함.\n"
   ]
  },
  {
   "cell_type": "markdown",
   "metadata": {},
   "source": [
    "#### 1. 데이터 준비"
   ]
  },
  {
   "cell_type": "code",
   "execution_count": 3,
   "metadata": {},
   "outputs": [],
   "source": [
    "hour = [1,3,4,5,7,9,10]\n",
    "jumsu = [32,55,83,70,99,92,100]\n",
    "lesson = [0,0,2,1,2,0,1]"
   ]
  },
  {
   "cell_type": "code",
   "execution_count": 20,
   "metadata": {},
   "outputs": [
    {
     "data": {
      "image/png": "[encoded data removed]",
      "text/plain": [
       "<Figure size 640x480 with 1 Axes>"
      ]
     },
     "metadata": {},
     "output_type": "display_data"
    }
   ],
   "source": [
    "## 현재 데이터 분포 확인\n",
    "import pandas as pd\n",
    "import matplotlib.pyplot as plt\n",
    "plt.plot(hour, jumsu, 'go')\n",
    "plt.xlabel('hour')\n",
    "plt.ylabel('jumsu')\n",
    "plt.show()"
   ]
  },
  {
   "cell_type": "code",
   "execution_count": 23,
   "metadata": {},
   "outputs": [
    {
     "data": {
      "text/plain": [
       "[32, 55, 83, 70, 99, 92, 100]"
      ]
     },
     "execution_count": 23,
     "metadata": {},
     "output_type": "execute_result"
    }
   ],
   "source": [
    "datadf = pd.DataFrame({'hour':hour, 'Lesson':lesson})\n",
    "jumsusr=pd.Series(jumsu)\n",
    "datadf\n",
    "jumsu\n",
    "# 피쳐가 여러개 있는 다중선형 회귀 만들거임"
   ]
  },
  {
   "cell_type": "markdown",
   "metadata": {},
   "source": [
    "#### 모델 생성 및 학습 진행"
   ]
  },
  {
   "cell_type": "code",
   "execution_count": 24,
   "metadata": {},
   "outputs": [],
   "source": [
    "from sklearn.linear_model import LinearRegression"
   ]
  },
  {
   "cell_type": "code",
   "execution_count": 25,
   "metadata": {},
   "outputs": [
    {
     "data": {
      "text/html": [
       "<style>#sk-container-id-2 {color: black;}#sk-container-id-2 pre{padding: 0;}#sk-container-id-2 div.sk-toggleable {background-color: white;}#sk-container-id-2 label.sk-toggleable__label {cursor: pointer;display: block;width: 100%;margin-bottom: 0;padding: 0.3em;box-sizing: border-box;text-align: center;}#sk-container-id-2 label.sk-toggleable__label-arrow:before {content: \"▸\";float: left;margin-right: 0.25em;color: #696969;}#sk-container-id-2 label.sk-toggleable__label-arrow:hover:before {color: black;}#sk-container-id-2 div.sk-estimator:hover label.sk-toggleable__label-arrow:before {color: black;}#sk-container-id-2 div.sk-toggleable__content {max-height: 0;max-width: 0;overflow: hidden;text-align: left;background-color: #f0f8ff;}#sk-container-id-2 div.sk-toggleable__content pre {margin: 0.2em;color: black;border-radius: 0.25em;background-color: #f0f8ff;}#sk-container-id-2 input.sk-toggleable__control:checked~div.sk-toggleable__content {max-height: 200px;max-width: 100%;overflow: auto;}#sk-container-id-2 input.sk-toggleable__control:checked~label.sk-toggleable__label-arrow:before {content: \"▾\";}#sk-container-id-2 div.sk-estimator input.sk-toggleable__control:checked~label.sk-toggleable__label {background-color: #d4ebff;}#sk-container-id-2 div.sk-label input.sk-toggleable__control:checked~label.sk-toggleable__label {background-color: #d4ebff;}#sk-container-id-2 input.sk-hidden--visually {border: 0;clip: rect(1px 1px 1px 1px);clip: rect(1px, 1px, 1px, 1px);height: 1px;margin: -1px;overflow: hidden;padding: 0;position: absolute;width: 1px;}#sk-container-id-2 div.sk-estimator {font-family: monospace;background-color: #f0f8ff;border: 1px dotted black;border-radius: 0.25em;box-sizing: border-box;margin-bottom: 0.5em;}#sk-container-id-2 div.sk-estimator:hover {background-color: #d4ebff;}#sk-container-id-2 div.sk-parallel-item::after {content: \"\";width: 100%;border-bottom: 1px solid gray;flex-grow: 1;}#sk-container-id-2 div.sk-label:hover label.sk-toggleable__label {background-color: #d4ebff;}#sk-container-id-2 div.sk-serial::before {content: \"\";position: absolute;border-left: 1px solid gray;box-sizing: border-box;top: 0;bottom: 0;left: 50%;z-index: 0;}#sk-container-id-2 div.sk-serial {display: flex;flex-direction: column;align-items: center;background-color: white;padding-right: 0.2em;padding-left: 0.2em;position: relative;}#sk-container-id-2 div.sk-item {position: relative;z-index: 1;}#sk-container-id-2 div.sk-parallel {display: flex;align-items: stretch;justify-content: center;background-color: white;position: relative;}#sk-container-id-2 div.sk-item::before, #sk-container-id-2 div.sk-parallel-item::before {content: \"\";position: absolute;border-left: 1px solid gray;box-sizing: border-box;top: 0;bottom: 0;left: 50%;z-index: -1;}#sk-container-id-2 div.sk-parallel-item {display: flex;flex-direction: column;z-index: 1;position: relative;background-color: white;}#sk-container-id-2 div.sk-parallel-item:first-child::after {align-self: flex-end;width: 50%;}#sk-container-id-2 div.sk-parallel-item:last-child::after {align-self: flex-start;width: 50%;}#sk-container-id-2 div.sk-parallel-item:only-child::after {width: 0;}#sk-container-id-2 div.sk-dashed-wrapped {border: 1px dashed gray;margin: 0 0.4em 0.5em 0.4em;box-sizing: border-box;padding-bottom: 0.4em;background-color: white;}#sk-container-id-2 div.sk-label label {font-family: monospace;font-weight: bold;display: inline-block;line-height: 1.2em;}#sk-container-id-2 div.sk-label-container {text-align: center;}#sk-container-id-2 div.sk-container {/* jupyter's `normalize.less` sets `[hidden] { display: none; }` but bootstrap.min.css set `[hidden] { display: none !important; }` so we also need the `!important` here to be able to override the default hidden behavior on the sphinx rendered scikit-learn.org. See: https://github.com/scikit-learn/scikit-learn/issues/21755 */display: inline-block !important;position: relative;}#sk-container-id-2 div.sk-text-repr-fallback {display: none;}</style><div id=\"sk-container-id-2\" class=\"sk-top-container\"><div class=\"sk-text-repr-fallback\"><pre>LinearRegression()</pre><b>In a Jupyter environment, please rerun this cell to show the HTML representation or trust the notebook. <br />On GitHub, the HTML representation is unable to render, please try loading this page with nbviewer.org.</b></div><div class=\"sk-container\" hidden><div class=\"sk-item\"><div class=\"sk-estimator sk-toggleable\"><input class=\"sk-toggleable__control sk-hidden--visually\" id=\"sk-estimator-id-2\" type=\"checkbox\" checked><label for=\"sk-estimator-id-2\" class=\"sk-toggleable__label sk-toggleable__label-arrow\">LinearRegression</label><div class=\"sk-toggleable__content\"><pre>LinearRegression()</pre></div></div></div></div></div>"
      ],
      "text/plain": [
       "LinearRegression()"
      ]
     },
     "execution_count": 25,
     "metadata": {},
     "output_type": "execute_result"
    }
   ],
   "source": [
    "# 모듈 인스턴스 생성\n",
    "model = LinearRegression()\n",
    "model.fit(datadf, jumsusr)"
   ]
  },
  {
   "cell_type": "code",
   "execution_count": 26,
   "metadata": {},
   "outputs": [
    {
     "name": "stdout",
     "output_type": "stream",
     "text": [
      "기울기:[ 6.27924892 11.61819933], 절편: 30.914299470390006\n"
     ]
    }
   ],
   "source": [
    "# 학습 후 모델 파라미터 -> 피쳐가 2개이기 때문에 coef_ 값도 2개나옴.\n",
    "print(f'기울기:{model.coef_}, 절편: {model.intercept_}')"
   ]
  },
  {
   "cell_type": "markdown",
   "metadata": {},
   "source": [
    "#### 3. 모델 성능 평가"
   ]
  },
  {
   "cell_type": "code",
   "execution_count": 16,
   "metadata": {},
   "outputs": [],
   "source": [
    "# 오차 계산 즉, 손실/비용 함수 확인\n",
    "# ver 1.4 이상 root_mean_squared_error 사용 가능\n",
    "from sklearn.metrics import mean_squared_error, mean_absolute_error, r2_score\n",
    "# 회귀 모델의 성능을 평가하는 지표"
   ]
  },
  {
   "cell_type": "code",
   "execution_count": 30,
   "metadata": {},
   "outputs": [
    {
     "name": "stdout",
     "output_type": "stream",
     "text": [
      "score : 0.9649627963178466\n",
      "[ 37.19354839  49.75204622  79.26769379  73.92874338  98.10544054\n",
      "  87.42753972 105.32498796]\n"
     ]
    }
   ],
   "source": [
    "# 점수 내부에서 predict를 진행 -> 결과로 R2 결정계수 값을 추출해서 반환\n",
    "score = model.score(datadf, jumsusr)\n",
    "print(f'score : {score}')\n",
    "\n",
    "# 오차계산 : 오차 계산은 예측 값과 실제 값 간의 차이를 측정하여 모델의 성능을 평가하는 방법\n",
    "# 결정계수 : 결정 계수는 회귀 분석에서 모델이 데이터를 얼마나 잘 설명하는지를 나타내는 지표입니다. \n",
    "# R² 값은 0과 1 사이에 위치하며, 값이 1에 가까울수록 모델이 데이터를 잘 설명한다는 의미\n",
    "\n",
    "# 오차계산과 결정계수 계산\n",
    "pre_jumsu= model.predict(datadf)\n",
    "print(pre_jumsu)"
   ]
  },
  {
   "cell_type": "code",
   "execution_count": 31,
   "metadata": {},
   "outputs": [],
   "source": [
    "# 오차 계산 함수들임 -> 정답과 예측값(predcit)을 줘야함\n",
    "mse = mean_squared_error(jumsusr, pre_jumsu)\n",
    "rmse = mean_squared_error(jumsusr, pre_jumsu, squared=False)\n",
    "mae = mean_absolute_error(jumsusr, pre_jumsu)\n",
    "\n",
    "# 얼마나 정답에 가깝게 값을 예측했느냐를 나타내는 지표.\n",
    "r2 = r2_score(jumsusr, pre_jumsu)"
   ]
  },
  {
   "cell_type": "code",
   "execution_count": 32,
   "metadata": {},
   "outputs": [
    {
     "name": "stdout",
     "output_type": "stream",
     "text": [
      "19.134603480294373\n",
      "4.374311772187069\n",
      "4.127794208680101\n",
      "0.9649627963178466\n"
     ]
    }
   ],
   "source": [
    "\n",
    "print(mse)\n",
    "# 평균 제곱 오차는 예측 값과 실제 값 간의 차이를 제곱하여 평균을 구한 값\n",
    "# # 값이 작을 수록 모델의 성능이 좋음을 나타냄\n",
    "print(rmse)\n",
    "\n",
    "\n",
    "print(mae)\n",
    "# 평균 절대 오차는 예측 값과 실제 값 간의 차이의 절대값을 평균한 값\n",
    "# 값이 작을 수록 모델의 성능이 좋음을 나타냄\n",
    "\n",
    "print(r2)\n",
    "# 결정 계수 : 모델이 데이터의 변동성을 얼마나 설명하는지 지표임.\n",
    "# 1에 가까울 수록 모델이 데이터를 잘 설명함\n",
    "# 회귀 모델을 평가할 때 사용"
   ]
  },
  {
   "cell_type": "code",
   "execution_count": null,
   "metadata": {},
   "outputs": [],
   "source": [
    "\n",
    "\n"
   ]
  }
 ],
 "metadata": {
  "kernelspec": {
   "display_name": "ML_38",
   "language": "python",
   "name": "python3"
  },
  "language_info": {
   "codemirror_mode": {
    "name": "ipython",
    "version": 3
   },
   "file_extension": ".py",
   "mimetype": "text/x-python",
   "name": "python",
   "nbconvert_exporter": "python",
   "pygments_lexer": "ipython3",
   "version": "3.8.19"
  }
 },
 "nbformat": 4,
 "nbformat_minor": 2
}
