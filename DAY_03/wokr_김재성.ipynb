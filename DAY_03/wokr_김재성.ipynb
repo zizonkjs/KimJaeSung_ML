{
 "cells": [
  {
   "cell_type": "markdown",
   "metadata": {},
   "source": [
    "# 연비 예측하기\n",
    "- 데이터셋 : auto-mpg.csv\n",
    "- 목적 : 연비예측\n",
    "- 피쳐 : cylinders, displacement, horse power, weight, acceleration\n",
    "- 타겟 : MPG\n",
    "- 학습방법 : 지도학습 -> 회귀\n",
    "- 알고리즘 : LinearRegression\n"
   ]
  },
  {
   "cell_type": "code",
   "execution_count": 50,
   "metadata": {},
   "outputs": [
    {
     "data": {
      "text/html": [
       "<div>\n",
       "<style scoped>\n",
       "    .dataframe tbody tr th:only-of-type {\n",
       "        vertical-align: middle;\n",
       "    }\n",
       "\n",
       "    .dataframe tbody tr th {\n",
       "        vertical-align: top;\n",
       "    }\n",
       "\n",
       "    .dataframe thead th {\n",
       "        text-align: right;\n",
       "    }\n",
       "</style>\n",
       "<table border=\"1\" class=\"dataframe\">\n",
       "  <thead>\n",
       "    <tr style=\"text-align: right;\">\n",
       "      <th></th>\n",
       "      <th>mpg</th>\n",
       "      <th>cylinders</th>\n",
       "      <th>displacement</th>\n",
       "      <th>horsepower</th>\n",
       "      <th>weight</th>\n",
       "      <th>acceleration</th>\n",
       "      <th>model year</th>\n",
       "      <th>origin</th>\n",
       "      <th>car name</th>\n",
       "    </tr>\n",
       "  </thead>\n",
       "  <tbody>\n",
       "    <tr>\n",
       "      <th>0</th>\n",
       "      <td>18.0</td>\n",
       "      <td>8</td>\n",
       "      <td>307.0</td>\n",
       "      <td>130</td>\n",
       "      <td>3504</td>\n",
       "      <td>12.0</td>\n",
       "      <td>70</td>\n",
       "      <td>1</td>\n",
       "      <td>chevrolet chevelle malibu</td>\n",
       "    </tr>\n",
       "    <tr>\n",
       "      <th>1</th>\n",
       "      <td>15.0</td>\n",
       "      <td>8</td>\n",
       "      <td>350.0</td>\n",
       "      <td>165</td>\n",
       "      <td>3693</td>\n",
       "      <td>11.5</td>\n",
       "      <td>70</td>\n",
       "      <td>1</td>\n",
       "      <td>buick skylark 320</td>\n",
       "    </tr>\n",
       "    <tr>\n",
       "      <th>2</th>\n",
       "      <td>18.0</td>\n",
       "      <td>8</td>\n",
       "      <td>318.0</td>\n",
       "      <td>150</td>\n",
       "      <td>3436</td>\n",
       "      <td>11.0</td>\n",
       "      <td>70</td>\n",
       "      <td>1</td>\n",
       "      <td>plymouth satellite</td>\n",
       "    </tr>\n",
       "    <tr>\n",
       "      <th>3</th>\n",
       "      <td>16.0</td>\n",
       "      <td>8</td>\n",
       "      <td>304.0</td>\n",
       "      <td>150</td>\n",
       "      <td>3433</td>\n",
       "      <td>12.0</td>\n",
       "      <td>70</td>\n",
       "      <td>1</td>\n",
       "      <td>amc rebel sst</td>\n",
       "    </tr>\n",
       "    <tr>\n",
       "      <th>4</th>\n",
       "      <td>17.0</td>\n",
       "      <td>8</td>\n",
       "      <td>302.0</td>\n",
       "      <td>140</td>\n",
       "      <td>3449</td>\n",
       "      <td>10.5</td>\n",
       "      <td>70</td>\n",
       "      <td>1</td>\n",
       "      <td>ford torino</td>\n",
       "    </tr>\n",
       "    <tr>\n",
       "      <th>...</th>\n",
       "      <td>...</td>\n",
       "      <td>...</td>\n",
       "      <td>...</td>\n",
       "      <td>...</td>\n",
       "      <td>...</td>\n",
       "      <td>...</td>\n",
       "      <td>...</td>\n",
       "      <td>...</td>\n",
       "      <td>...</td>\n",
       "    </tr>\n",
       "    <tr>\n",
       "      <th>393</th>\n",
       "      <td>27.0</td>\n",
       "      <td>4</td>\n",
       "      <td>140.0</td>\n",
       "      <td>86</td>\n",
       "      <td>2790</td>\n",
       "      <td>15.6</td>\n",
       "      <td>82</td>\n",
       "      <td>1</td>\n",
       "      <td>ford mustang gl</td>\n",
       "    </tr>\n",
       "    <tr>\n",
       "      <th>394</th>\n",
       "      <td>44.0</td>\n",
       "      <td>4</td>\n",
       "      <td>97.0</td>\n",
       "      <td>52</td>\n",
       "      <td>2130</td>\n",
       "      <td>24.6</td>\n",
       "      <td>82</td>\n",
       "      <td>2</td>\n",
       "      <td>vw pickup</td>\n",
       "    </tr>\n",
       "    <tr>\n",
       "      <th>395</th>\n",
       "      <td>32.0</td>\n",
       "      <td>4</td>\n",
       "      <td>135.0</td>\n",
       "      <td>84</td>\n",
       "      <td>2295</td>\n",
       "      <td>11.6</td>\n",
       "      <td>82</td>\n",
       "      <td>1</td>\n",
       "      <td>dodge rampage</td>\n",
       "    </tr>\n",
       "    <tr>\n",
       "      <th>396</th>\n",
       "      <td>28.0</td>\n",
       "      <td>4</td>\n",
       "      <td>120.0</td>\n",
       "      <td>79</td>\n",
       "      <td>2625</td>\n",
       "      <td>18.6</td>\n",
       "      <td>82</td>\n",
       "      <td>1</td>\n",
       "      <td>ford ranger</td>\n",
       "    </tr>\n",
       "    <tr>\n",
       "      <th>397</th>\n",
       "      <td>31.0</td>\n",
       "      <td>4</td>\n",
       "      <td>119.0</td>\n",
       "      <td>82</td>\n",
       "      <td>2720</td>\n",
       "      <td>19.4</td>\n",
       "      <td>82</td>\n",
       "      <td>1</td>\n",
       "      <td>chevy s-10</td>\n",
       "    </tr>\n",
       "  </tbody>\n",
       "</table>\n",
       "<p>398 rows × 9 columns</p>\n",
       "</div>"
      ],
      "text/plain": [
       "      mpg  cylinders  displacement horsepower  weight  acceleration  \\\n",
       "0    18.0          8         307.0        130    3504          12.0   \n",
       "1    15.0          8         350.0        165    3693          11.5   \n",
       "2    18.0          8         318.0        150    3436          11.0   \n",
       "3    16.0          8         304.0        150    3433          12.0   \n",
       "4    17.0          8         302.0        140    3449          10.5   \n",
       "..    ...        ...           ...        ...     ...           ...   \n",
       "393  27.0          4         140.0         86    2790          15.6   \n",
       "394  44.0          4          97.0         52    2130          24.6   \n",
       "395  32.0          4         135.0         84    2295          11.6   \n",
       "396  28.0          4         120.0         79    2625          18.6   \n",
       "397  31.0          4         119.0         82    2720          19.4   \n",
       "\n",
       "     model year  origin                   car name  \n",
       "0            70       1  chevrolet chevelle malibu  \n",
       "1            70       1          buick skylark 320  \n",
       "2            70       1         plymouth satellite  \n",
       "3            70       1              amc rebel sst  \n",
       "4            70       1                ford torino  \n",
       "..          ...     ...                        ...  \n",
       "393          82       1            ford mustang gl  \n",
       "394          82       2                  vw pickup  \n",
       "395          82       1              dodge rampage  \n",
       "396          82       1                ford ranger  \n",
       "397          82       1                 chevy s-10  \n",
       "\n",
       "[398 rows x 9 columns]"
      ]
     },
     "execution_count": 50,
     "metadata": {},
     "output_type": "execute_result"
    }
   ],
   "source": [
    "import pandas as pd\n",
    "import matplotlib.pyplot as plt\n",
    "# 데이터준비\n",
    "FILE = '../data/auto_mpg.csv'\n",
    "autodf=pd.read_csv(FILE)\n",
    "autodf\n",
    "\n",
    "\n"
   ]
  },
  {
   "cell_type": "code",
   "execution_count": 51,
   "metadata": {},
   "outputs": [
    {
     "name": "stdout",
     "output_type": "stream",
     "text": [
      "    mpg  cylinders  displacement  horsepower  weight  acceleration  \\\n",
      "0  18.0          8         307.0       130.0    3504          12.0   \n",
      "1  15.0          8         350.0       165.0    3693          11.5   \n",
      "2  18.0          8         318.0       150.0    3436          11.0   \n",
      "3  16.0          8         304.0       150.0    3433          12.0   \n",
      "4  17.0          8         302.0       140.0    3449          10.5   \n",
      "\n",
      "   model year  origin                   car name  \n",
      "0          70       1  chevrolet chevelle malibu  \n",
      "1          70       1          buick skylark 320  \n",
      "2          70       1         plymouth satellite  \n",
      "3          70       1              amc rebel sst  \n",
      "4          70       1                ford torino  \n",
      "<class 'pandas.core.frame.DataFrame'>\n",
      "Index: 392 entries, 0 to 397\n",
      "Data columns (total 9 columns):\n",
      " #   Column        Non-Null Count  Dtype  \n",
      "---  ------        --------------  -----  \n",
      " 0   mpg           392 non-null    float64\n",
      " 1   cylinders     392 non-null    int64  \n",
      " 2   displacement  392 non-null    float64\n",
      " 3   horsepower    392 non-null    float64\n",
      " 4   weight        392 non-null    int64  \n",
      " 5   acceleration  392 non-null    float64\n",
      " 6   model year    392 non-null    int64  \n",
      " 7   origin        392 non-null    int64  \n",
      " 8   car name      392 non-null    object \n",
      "dtypes: float64(4), int64(4), object(1)\n",
      "memory usage: 30.6+ KB\n"
     ]
    }
   ],
   "source": [
    "# pd.to_numeric(..., errors='coerce')를 사용하여 ? 값을 NaN으로 변환\n",
    "# ? 값을 NaN으로 변환\n",
    "autodf['cylinders'] = pd.to_numeric(autodf['cylinders'], errors='coerce')\n",
    "autodf['displacement'] = pd.to_numeric(autodf['displacement'], errors='coerce')\n",
    "autodf['horsepower'] = pd.to_numeric(autodf['horsepower'], errors='coerce')\n",
    "autodf['weight'] = pd.to_numeric(autodf['weight'], errors='coerce')\n",
    "autodf['acceleration'] = pd.to_numeric(autodf['acceleration'], errors='coerce')\n",
    "\n",
    "# NaN 값을 가진 행을 제거\n",
    "autodf.dropna(subset=['cylinders', 'displacement', 'horsepower', 'weight', 'acceleration'], inplace=True)\n",
    "\n",
    "# 정리된 데이터 확인\n",
    "print(autodf.head())\n",
    "target=autodf['mpg']*0.425144\n",
    "autodf.info()"
   ]
  },
  {
   "cell_type": "code",
   "execution_count": 52,
   "metadata": {},
   "outputs": [
    {
     "data": {
      "text/plain": [
       "(392,)"
      ]
     },
     "execution_count": 52,
     "metadata": {},
     "output_type": "execute_result"
    }
   ],
   "source": [
    "target.shape"
   ]
  },
  {
   "cell_type": "code",
   "execution_count": 53,
   "metadata": {},
   "outputs": [
    {
     "data": {
      "text/plain": [
       "(392, 5)"
      ]
     },
     "execution_count": 53,
     "metadata": {},
     "output_type": "execute_result"
    }
   ],
   "source": [
    "feature = pd.concat([autodf['cylinders'], autodf['displacement'], autodf['horsepower'], autodf['weight'], autodf['acceleration']], axis=1)\n",
    "feature.shape"
   ]
  },
  {
   "cell_type": "code",
   "execution_count": 54,
   "metadata": {},
   "outputs": [],
   "source": [
    "from sklearn.model_selection import train_test_split"
   ]
  },
  {
   "cell_type": "code",
   "execution_count": 55,
   "metadata": {},
   "outputs": [],
   "source": [
    "x_train, x_test, y_train, y_test = train_test_split(feature, target, test_size=0.3, random_state=38)"
   ]
  },
  {
   "cell_type": "code",
   "execution_count": 56,
   "metadata": {},
   "outputs": [
    {
     "name": "stdout",
     "output_type": "stream",
     "text": [
      "X_train: (274, 5), 2D\n",
      "y_tarin: (274,), 1D\n",
      "\n",
      "X_test: (118, 5), 2D\n",
      "y_test: (118,), 1D\n"
     ]
    }
   ],
   "source": [
    "print(f\"X_train: {x_train.shape}, {x_train.ndim}D\")\n",
    "print(f\"y_tarin: {y_train.shape}, {y_train.ndim}D\")\n",
    "print()\n",
    "print(f\"X_test: {x_test.shape}, {x_test.ndim}D\")\n",
    "print(f\"y_test: {y_test.shape}, {y_test.ndim}D\")"
   ]
  },
  {
   "cell_type": "code",
   "execution_count": 58,
   "metadata": {},
   "outputs": [
    {
     "name": "stdout",
     "output_type": "stream",
     "text": [
      "X_train ratio:  0.6989795918367347\n",
      "X_test ratio:  0.3010204081632653\n"
     ]
    }
   ],
   "source": [
    "# 비율\n",
    "print('X_train ratio: ', len(x_train)/len(autodf))\n",
    "print('X_test ratio: ', len(x_test)/len(autodf))"
   ]
  },
  {
   "cell_type": "code",
   "execution_count": null,
   "metadata": {},
   "outputs": [],
   "source": [
    "from sklearn.linear_model import LinearRegression"
   ]
  },
  {
   "cell_type": "code",
   "execution_count": null,
   "metadata": {},
   "outputs": [
    {
     "data": {
      "text/html": [
       "<style>#sk-container-id-1 {color: black;}#sk-container-id-1 pre{padding: 0;}#sk-container-id-1 div.sk-toggleable {background-color: white;}#sk-container-id-1 label.sk-toggleable__label {cursor: pointer;display: block;width: 100%;margin-bottom: 0;padding: 0.3em;box-sizing: border-box;text-align: center;}#sk-container-id-1 label.sk-toggleable__label-arrow:before {content: \"▸\";float: left;margin-right: 0.25em;color: #696969;}#sk-container-id-1 label.sk-toggleable__label-arrow:hover:before {color: black;}#sk-container-id-1 div.sk-estimator:hover label.sk-toggleable__label-arrow:before {color: black;}#sk-container-id-1 div.sk-toggleable__content {max-height: 0;max-width: 0;overflow: hidden;text-align: left;background-color: #f0f8ff;}#sk-container-id-1 div.sk-toggleable__content pre {margin: 0.2em;color: black;border-radius: 0.25em;background-color: #f0f8ff;}#sk-container-id-1 input.sk-toggleable__control:checked~div.sk-toggleable__content {max-height: 200px;max-width: 100%;overflow: auto;}#sk-container-id-1 input.sk-toggleable__control:checked~label.sk-toggleable__label-arrow:before {content: \"▾\";}#sk-container-id-1 div.sk-estimator input.sk-toggleable__control:checked~label.sk-toggleable__label {background-color: #d4ebff;}#sk-container-id-1 div.sk-label input.sk-toggleable__control:checked~label.sk-toggleable__label {background-color: #d4ebff;}#sk-container-id-1 input.sk-hidden--visually {border: 0;clip: rect(1px 1px 1px 1px);clip: rect(1px, 1px, 1px, 1px);height: 1px;margin: -1px;overflow: hidden;padding: 0;position: absolute;width: 1px;}#sk-container-id-1 div.sk-estimator {font-family: monospace;background-color: #f0f8ff;border: 1px dotted black;border-radius: 0.25em;box-sizing: border-box;margin-bottom: 0.5em;}#sk-container-id-1 div.sk-estimator:hover {background-color: #d4ebff;}#sk-container-id-1 div.sk-parallel-item::after {content: \"\";width: 100%;border-bottom: 1px solid gray;flex-grow: 1;}#sk-container-id-1 div.sk-label:hover label.sk-toggleable__label {background-color: #d4ebff;}#sk-container-id-1 div.sk-serial::before {content: \"\";position: absolute;border-left: 1px solid gray;box-sizing: border-box;top: 0;bottom: 0;left: 50%;z-index: 0;}#sk-container-id-1 div.sk-serial {display: flex;flex-direction: column;align-items: center;background-color: white;padding-right: 0.2em;padding-left: 0.2em;position: relative;}#sk-container-id-1 div.sk-item {position: relative;z-index: 1;}#sk-container-id-1 div.sk-parallel {display: flex;align-items: stretch;justify-content: center;background-color: white;position: relative;}#sk-container-id-1 div.sk-item::before, #sk-container-id-1 div.sk-parallel-item::before {content: \"\";position: absolute;border-left: 1px solid gray;box-sizing: border-box;top: 0;bottom: 0;left: 50%;z-index: -1;}#sk-container-id-1 div.sk-parallel-item {display: flex;flex-direction: column;z-index: 1;position: relative;background-color: white;}#sk-container-id-1 div.sk-parallel-item:first-child::after {align-self: flex-end;width: 50%;}#sk-container-id-1 div.sk-parallel-item:last-child::after {align-self: flex-start;width: 50%;}#sk-container-id-1 div.sk-parallel-item:only-child::after {width: 0;}#sk-container-id-1 div.sk-dashed-wrapped {border: 1px dashed gray;margin: 0 0.4em 0.5em 0.4em;box-sizing: border-box;padding-bottom: 0.4em;background-color: white;}#sk-container-id-1 div.sk-label label {font-family: monospace;font-weight: bold;display: inline-block;line-height: 1.2em;}#sk-container-id-1 div.sk-label-container {text-align: center;}#sk-container-id-1 div.sk-container {/* jupyter's `normalize.less` sets `[hidden] { display: none; }` but bootstrap.min.css set `[hidden] { display: none !important; }` so we also need the `!important` here to be able to override the default hidden behavior on the sphinx rendered scikit-learn.org. See: https://github.com/scikit-learn/scikit-learn/issues/21755 */display: inline-block !important;position: relative;}#sk-container-id-1 div.sk-text-repr-fallback {display: none;}</style><div id=\"sk-container-id-1\" class=\"sk-top-container\"><div class=\"sk-text-repr-fallback\"><pre>LinearRegression()</pre><b>In a Jupyter environment, please rerun this cell to show the HTML representation or trust the notebook. <br />On GitHub, the HTML representation is unable to render, please try loading this page with nbviewer.org.</b></div><div class=\"sk-container\" hidden><div class=\"sk-item\"><div class=\"sk-estimator sk-toggleable\"><input class=\"sk-toggleable__control sk-hidden--visually\" id=\"sk-estimator-id-1\" type=\"checkbox\" checked><label for=\"sk-estimator-id-1\" class=\"sk-toggleable__label sk-toggleable__label-arrow\">LinearRegression</label><div class=\"sk-toggleable__content\"><pre>LinearRegression()</pre></div></div></div></div></div>"
      ],
      "text/plain": [
       "LinearRegression()"
      ]
     },
     "execution_count": 36,
     "metadata": {},
     "output_type": "execute_result"
    }
   ],
   "source": [
    "model = LinearRegression()\n",
    "model.fit(feature, target)"
   ]
  },
  {
   "cell_type": "code",
   "execution_count": null,
   "metadata": {},
   "outputs": [
    {
     "name": "stdout",
     "output_type": "stream",
     "text": [
      "기울기:[-3.97928359e-01 -8.31301222e-05 -4.52570802e-02 -5.18691735e-03\n",
      " -2.91047140e-02], 절편: 46.264307852571136\n"
     ]
    }
   ],
   "source": [
    "print(f'기울기:{model.coef_}, 절편: {model.intercept_}')"
   ]
  },
  {
   "cell_type": "code",
   "execution_count": null,
   "metadata": {},
   "outputs": [],
   "source": [
    "from sklearn.metrics import mean_squared_error, mean_absolute_error, r2_score"
   ]
  },
  {
   "cell_type": "code",
   "execution_count": null,
   "metadata": {},
   "outputs": [
    {
     "name": "stdout",
     "output_type": "stream",
     "text": [
      "score : 0.7076926326770516\n"
     ]
    }
   ],
   "source": [
    "score = model.score(feature, target)\n",
    "print(f'score : {score}')"
   ]
  },
  {
   "cell_type": "code",
   "execution_count": null,
   "metadata": {},
   "outputs": [
    {
     "name": "stdout",
     "output_type": "stream",
     "text": [
      "[18.64772466 16.09437724 18.12348372 18.11110358 18.52450703 11.27686094\n",
      " 10.24080171 10.70065382  9.61705734 14.23259315 16.58330487 16.85906149\n",
      " 16.47457598 16.56233967 27.62383944 24.41519541 24.63062624 26.12902926\n",
      " 29.21175544 32.46806514 26.35730848 27.56433477 27.53626507 27.59710334\n",
      " 25.61552974  8.97559235 10.86942298 10.42847331  9.23806286 29.21175544\n",
      " 28.39351504 28.39986025 25.29104192 20.81710818 21.61187624 22.29500797\n",
      " 21.82603619 13.40337553 11.63853665 14.18800074 14.64190884  8.86688805\n",
      " 10.38755901  8.11762817 23.12044849 28.35935989 21.87021371 23.16958021\n",
      " 28.84792114 29.17052258 30.17282302 30.0927382  31.97558794 32.65348798\n",
      " 31.88331    30.75996391 28.09685731 29.5217564  29.84537599 27.53018009\n",
      " 28.74403785 13.0662259  12.03375077 14.42506671 14.33222603 16.88598269\n",
      "  9.28060556 12.29252248 12.30483527 11.14842627 28.19633583 15.71575616\n",
      " 15.50848633 13.98148595 14.71135556 23.95849576 27.67476327 24.70588413\n",
      " 29.66382847 27.88200118 28.13843239 26.8522488  29.3828214  29.30915353\n",
      " 13.487074   16.88598269 15.42572115 15.46801743 16.31108783  8.06399737\n",
      " 12.7554113  12.89220197 13.86689642  8.433826    6.8596341  14.99160207\n",
      " 22.43744318 21.80364724 23.59059648 23.72342703 24.03237192 31.85701729\n",
      "  9.93257493  9.67887111 10.83897589 11.20576094 24.4288603  28.30793354\n",
      " 28.38111595 27.58954668 29.58164037 28.29538445 25.79181927 28.39181959\n",
      " 14.93815092 10.1723733  32.19782803 29.62417961 26.7446367  24.26654067\n",
      " 18.31539966 25.47959071 23.38981499 15.58049399 22.99080993 23.81882085\n",
      " 21.53191074 30.96632437 27.84852393 31.59060272 27.58675115 19.22373252\n",
      " 19.51424265 19.88547985 14.83329373 11.46788045 12.75487932 12.19718638\n",
      " 13.73521718 28.91811264 31.00076095 28.78255029 33.27945387 30.96262771\n",
      " 29.82661398 29.88568686 29.21138795 26.92587404 27.60166546 30.79429265\n",
      " 22.16283716 20.69673922 22.18474607 23.64961849 10.80669092 13.0521298\n",
      " 12.513111   11.80526672 18.00277075 18.35210764 18.97682004 19.37313908\n",
      " 22.67964329 20.98084766 20.4310147  29.5437768  26.72156353 23.75139092\n",
      " 27.14797697 25.90881097 29.44111497 26.57728037 23.57280595 31.0425922\n",
      " 22.63434256 25.95348579 24.84750101 24.52985188 25.21080158 32.44655519\n",
      " 27.53990319 28.99030165 26.72289317 28.87748628 29.0409665  14.47831717\n",
      " 14.15433861 16.66963775 13.93722916 22.11480903 21.29020953 24.05905016\n",
      " 23.27043131 31.11065874 30.08131954 31.03677125 32.44946566 19.87973673\n",
      " 21.17666132 19.49986625 22.47597651 31.63007643 30.68078709 29.61512559\n",
      " 27.70217932 23.24983167 15.445247   23.08138279 23.32721385 18.13184923\n",
      " 11.83464599 15.1073024  16.66241442 16.38154294 30.44128303 29.43424391\n",
      " 32.03364465 27.93673988 30.92001931 16.00420144 16.46911433 14.61959658\n",
      " 14.46088502 20.14240998 20.84847964 19.988662   20.5838881  12.68950097\n",
      " 13.42277732 11.66028866 13.40109231 30.64984054 25.99958976 28.9921762\n",
      " 25.88326429 30.680104   29.68249156 30.85895818 29.36475308 24.45147324\n",
      " 25.82573141 25.58426472 31.57099057 31.92192127 31.45207971 30.21926616\n",
      " 32.13583623 20.17588839 16.96113586 17.87520627 20.21097789 22.66625903\n",
      " 24.17419544 26.12170536 21.04059782 22.63370853 21.11390611 23.60337488\n",
      " 19.55885565 20.29757117 18.34387553 18.13118299 19.81499865 15.15709702\n",
      " 29.92893155 26.67023702 27.91501596 29.2807407  26.88618547 25.18349586\n",
      " 25.49229796 27.3645687  24.46055571 21.52330789 24.50359346 19.69675319\n",
      " 30.69631738 30.02975942 21.37321103 23.9746712  25.18463046 22.31932336\n",
      " 20.96857406 16.80613066 17.50634206 15.90778491 16.63645469 12.98831814\n",
      " 15.18123659 18.26614247 15.44757648 31.05966125 31.0371816  30.69182665\n",
      " 26.75632923 21.87983508 16.65925074 24.17955713 20.60074796 29.70046975\n",
      " 29.91033761 30.6874346  30.0663178  26.27215981 24.86885818 24.27766432\n",
      " 26.94496159 29.67631948 31.19474906 30.04906421 30.77403158 26.21611212\n",
      " 25.26508504 24.42558701 21.7036705  29.32564891 26.07546177 27.5738614\n",
      " 27.43752302 29.07857591 30.25836503 24.96515625 30.22061203 31.04647789\n",
      " 29.69153913 25.35179296 24.1362689  31.63536306 29.98248386 31.84409224\n",
      " 22.46311404 27.62284675 27.27305494 29.03236886 27.48740891 26.71360251\n",
      " 26.48714341 24.3830082  28.11352843 32.44620688 31.56620476 32.35287564\n",
      " 30.40325819 30.91502493 30.72256475 30.82584177 29.88998754 30.64399511\n",
      " 28.77540659 29.54220589 29.38722326 28.59112039 26.14245529 27.11345139\n",
      " 23.69282746 23.46403453 23.20417084 22.8344382  20.7060786  18.42553534\n",
      " 23.50783093 21.55537475 26.5982887  26.44585131 27.73410889 26.98862349\n",
      " 27.29713539 25.87680076 25.15946931 30.59944335 30.5543347  30.85707798\n",
      " 30.36263104 29.97074114 29.05423592 29.41024738 29.35912164 31.00394191\n",
      " 30.98356861 30.81340873 23.13062343 23.87476985 26.66577505 23.65590856\n",
      " 26.08825373 28.18842172 24.78198683 25.84331437 30.54705271 28.61818712\n",
      " 26.93030375 26.27857472]\n"
     ]
    }
   ],
   "source": [
    "# 예측결과\n",
    "pre_feature= model.predict(feature)\n",
    "print(pre_feature)"
   ]
  },
  {
   "cell_type": "code",
   "execution_count": null,
   "metadata": {},
   "outputs": [],
   "source": [
    "# 오차 계산 함수들임 -> 정답과 예측값(predcit)을 줘야함\n",
    "mse = mean_squared_error(target, pre_feature)\n",
    "rmse = mean_squared_error(target, pre_feature, squared=False)\n",
    "mae = mean_absolute_error(target, pre_feature)\n",
    "\n",
    "# 얼마나 정답에 가깝게 값을 예측했느냐를 나타내는 지표.\n",
    "r2 = r2_score(target, pre_feature)"
   ]
  },
  {
   "cell_type": "code",
   "execution_count": null,
   "metadata": {},
   "outputs": [
    {
     "name": "stdout",
     "output_type": "stream",
     "text": [
      "17.761396105406217\n",
      "4.214427138462145\n",
      "3.2223001384505623\n",
      "0.7076926326770516\n"
     ]
    }
   ],
   "source": [
    "print(mse)\n",
    "# 평균 제곱 오차는 예측 값과 실제 값 간의 차이를 제곱하여 평균을 구한 값\n",
    "# # 값이 작을 수록 모델의 성능이 좋음을 나타냄\n",
    "print(rmse)\n",
    "\n",
    "\n",
    "print(mae)\n",
    "# 평균 절대 오차는 예측 값과 실제 값 간의 차이의 절대값을 평균한 값\n",
    "# 값이 작을 수록 모델의 성능이 좋음을 나타냄\n",
    "\n",
    "print(r2)\n",
    "# 결정 계수 : 모델이 데이터의 변동성을 얼마나 설명하는지 지표임.\n",
    "# 1에 가까울 수록 모델이 데이터를 잘 설명함\n",
    "# 회귀 모델을 평가할 때 사용"
   ]
  },
  {
   "cell_type": "code",
   "execution_count": null,
   "metadata": {},
   "outputs": [],
   "source": []
  }
 ],
 "metadata": {
  "kernelspec": {
   "display_name": "ML_38",
   "language": "python",
   "name": "python3"
  },
  "language_info": {
   "codemirror_mode": {
    "name": "ipython",
    "version": 3
   },
   "file_extension": ".py",
   "mimetype": "text/x-python",
   "name": "python",
   "nbconvert_exporter": "python",
   "pygments_lexer": "ipython3",
   "version": "3.8.19"
  }
 },
 "nbformat": 4,
 "nbformat_minor": 2
}
