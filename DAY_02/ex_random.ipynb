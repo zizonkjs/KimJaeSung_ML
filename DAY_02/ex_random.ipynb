{
 "cells": [
  {
   "cell_type": "markdown",
   "metadata": {},
   "source": [
    "#### 임의의 숫자, 난수 추출\n",
    "- random 모듈 존재\n",
    "- 0.0~1.0 실수 추출\n",
    "- n~m 정수 추출\n",
    "- random값 고정 --> seed 기능 제공"
   ]
  },
  {
   "cell_type": "code",
   "execution_count": 2773,
   "metadata": {},
   "outputs": [],
   "source": [
    "import random"
   ]
  },
  {
   "cell_type": "code",
   "execution_count": 2774,
   "metadata": {},
   "outputs": [
    {
     "name": "stdout",
     "output_type": "stream",
     "text": [
      "256\n",
      "976\n",
      "976\n",
      "764\n",
      "370\n",
      "46\n",
      "431\n",
      "881\n",
      "143\n",
      "618\n"
     ]
    }
   ],
   "source": [
    "for _ in range(10):\n",
    "    print(random.randint(1,1000))"
   ]
  },
  {
   "cell_type": "code",
   "execution_count": 2775,
   "metadata": {},
   "outputs": [
    {
     "name": "stdout",
     "output_type": "stream",
     "text": [
      "0.35508168773059534\n",
      "0.4212639948995278\n",
      "0.8268482288343075\n",
      "0.26232111049317675\n",
      "0.17467058960990223\n",
      "0.3031051133710616\n",
      "0.36258740822209523\n",
      "0.4569284228074387\n",
      "0.8600491433025393\n",
      "0.23938029236635683\n"
     ]
    }
   ],
   "source": [
    "# 실수 임의 추출\n",
    "for _ in range(10):\n",
    "    print(random.random())"
   ]
  },
  {
   "cell_type": "code",
   "execution_count": 2776,
   "metadata": {},
   "outputs": [
    {
     "name": "stdout",
     "output_type": "stream",
     "text": [
      "0.5714025946899135\n",
      "0.4288890546751146\n",
      "0.5780913011344704\n",
      "0.20609823213950174\n",
      "0.81332125135732\n",
      "0.8235888725334455\n",
      "0.6534725339011758\n",
      "0.16022955651881965\n",
      "0.5206693596399246\n",
      "0.32777281162209315\n"
     ]
    }
   ],
   "source": [
    "random.seed(10)\n",
    "for _ in range(10):\n",
    "    print(random.random())"
   ]
  },
  {
   "cell_type": "code",
   "execution_count": 2777,
   "metadata": {},
   "outputs": [],
   "source": [
    "X=[[10],[3], [9], [5],[7],[12],[67],[45],[2],[6],[18],[13]]\n",
    "y=[1,2,3,4,5,6,7,8,9,10,11,12]\n"
   ]
  },
  {
   "cell_type": "code",
   "execution_count": 2778,
   "metadata": {},
   "outputs": [],
   "source": [
    "from sklearn.model_selection import train_test_split\n"
   ]
  },
  {
   "cell_type": "code",
   "execution_count": 2779,
   "metadata": {},
   "outputs": [],
   "source": [
    "# 섞지 않고 학습용/테스트용 데이터셋 분리\n",
    "x_train, x_test, y_train, y_test = train_test_split(X,y,shuffle=False)"
   ]
  },
  {
   "cell_type": "code",
   "execution_count": 2780,
   "metadata": {},
   "outputs": [
    {
     "name": "stdout",
     "output_type": "stream",
     "text": [
      "X : [[10], [3], [9], [5], [7], [12], [67], [45], [2], [6], [18], [13]]\n",
      "X_train : [[10], [3], [9], [5], [7], [12], [67], [45], [2]]\n",
      "X_test : [[6], [18], [13]]\n"
     ]
    }
   ],
   "source": [
    "print(f'X : {X}')\n",
    "print(f'X_train : {x_train}')\n",
    "print(f'X_test : {x_test}')"
   ]
  },
  {
   "cell_type": "code",
   "execution_count": 2781,
   "metadata": {},
   "outputs": [],
   "source": [
    "# 섞어서 학습용/테스트용 데이터셋 분리\n",
    "# random_state -> seed 설정 매개변수 값을 유지시켜줌\n",
    "x_train, x_test, y_train, y_test = train_test_split(X,y, random_state=10)"
   ]
  },
  {
   "cell_type": "code",
   "execution_count": 2782,
   "metadata": {},
   "outputs": [
    {
     "name": "stdout",
     "output_type": "stream",
     "text": [
      "X : [[10], [3], [9], [5], [7], [12], [67], [45], [2], [6], [18], [13]]\n",
      "X_train : [[12], [13], [2], [18], [5], [3], [10], [7], [6]]\n",
      "X_test : [[9], [67], [45]]\n"
     ]
    }
   ],
   "source": [
    "print(f'X : {X}')\n",
    "print(f'X_train : {x_train}')\n",
    "print(f'X_test : {x_test}')"
   ]
  },
  {
   "cell_type": "code",
   "execution_count": null,
   "metadata": {},
   "outputs": [],
   "source": []
  },
  {
   "cell_type": "code",
   "execution_count": null,
   "metadata": {},
   "outputs": [],
   "source": []
  }
 ],
 "metadata": {
  "kernelspec": {
   "display_name": "ML_38",
   "language": "python",
   "name": "python3"
  },
  "language_info": {
   "codemirror_mode": {
    "name": "ipython",
    "version": 3
   },
   "file_extension": ".py",
   "mimetype": "text/x-python",
   "name": "python",
   "nbconvert_exporter": "python",
   "pygments_lexer": "ipython3",
   "version": "3.8.19"
  }
 },
 "nbformat": 4,
 "nbformat_minor": 2
}
