{
 "cells": [
  {
   "cell_type": "markdown",
   "metadata": {},
   "source": [
    "#### 성능지표 - 분류\n",
    "- 정확도 (Accuracy) : 전체 정답에서 맞춘 정답의 수\n",
    "- 정밀도 (Precision) : 모델(예측) 기준으로 모델이 True라고 한 것이 정답(실제) True 인것\n",
    "- 재현율 (Recall) : 정답(실제) 기준으로 정답(실제)이 True라고 한 것이 모델(예측)도 True 인것\n",
    "- F1-Score : 재현율과 정밀도 2가지를 조합한 점수\n",
    "- 오차행렬(Confusion Matrix) : 정답과 예측값의 관계 나타내는 표"
   ]
  },
  {
   "cell_type": "code",
   "execution_count": 2,
   "metadata": {},
   "outputs": [],
   "source": [
    "# 모듈 로딩\n",
    "from sklearn.datasets import load_digits\n",
    "import pandas as pd\n",
    "from sklearn.model_selection import train_test_split\n",
    "from sklearn.metrics import accuracy_score # skelarn에서 제공하는 모델 성능평가 관련 모듈\n",
    "import numpy as np"
   ]
  },
  {
   "cell_type": "code",
   "execution_count": 3,
   "metadata": {},
   "outputs": [
    {
     "name": "stdout",
     "output_type": "stream",
     "text": [
      "dict_keys(['data', 'target', 'frame', 'feature_names', 'target_names', 'images', 'DESCR'])\n",
      "      pixel_0_0  pixel_0_1  pixel_0_2  pixel_0_3  pixel_0_4  pixel_0_5  \\\n",
      "0           0.0        0.0        5.0       13.0        9.0        1.0   \n",
      "1           0.0        0.0        0.0       12.0       13.0        5.0   \n",
      "2           0.0        0.0        0.0        4.0       15.0       12.0   \n",
      "3           0.0        0.0        7.0       15.0       13.0        1.0   \n",
      "4           0.0        0.0        0.0        1.0       11.0        0.0   \n",
      "...         ...        ...        ...        ...        ...        ...   \n",
      "1792        0.0        0.0        4.0       10.0       13.0        6.0   \n",
      "1793        0.0        0.0        6.0       16.0       13.0       11.0   \n",
      "1794        0.0        0.0        1.0       11.0       15.0        1.0   \n",
      "1795        0.0        0.0        2.0       10.0        7.0        0.0   \n",
      "1796        0.0        0.0       10.0       14.0        8.0        1.0   \n",
      "\n",
      "      pixel_0_6  pixel_0_7  pixel_1_0  pixel_1_1  ...  pixel_6_6  pixel_6_7  \\\n",
      "0           0.0        0.0        0.0        0.0  ...        0.0        0.0   \n",
      "1           0.0        0.0        0.0        0.0  ...        0.0        0.0   \n",
      "2           0.0        0.0        0.0        0.0  ...        5.0        0.0   \n",
      "3           0.0        0.0        0.0        8.0  ...        9.0        0.0   \n",
      "4           0.0        0.0        0.0        0.0  ...        0.0        0.0   \n",
      "...         ...        ...        ...        ...  ...        ...        ...   \n",
      "1792        0.0        0.0        0.0        1.0  ...        4.0        0.0   \n",
      "1793        1.0        0.0        0.0        0.0  ...        1.0        0.0   \n",
      "1794        0.0        0.0        0.0        0.0  ...        0.0        0.0   \n",
      "1795        0.0        0.0        0.0        0.0  ...        2.0        0.0   \n",
      "1796        0.0        0.0        0.0        2.0  ...        8.0        0.0   \n",
      "\n",
      "      pixel_7_0  pixel_7_1  pixel_7_2  pixel_7_3  pixel_7_4  pixel_7_5  \\\n",
      "0           0.0        0.0        6.0       13.0       10.0        0.0   \n",
      "1           0.0        0.0        0.0       11.0       16.0       10.0   \n",
      "2           0.0        0.0        0.0        3.0       11.0       16.0   \n",
      "3           0.0        0.0        7.0       13.0       13.0        9.0   \n",
      "4           0.0        0.0        0.0        2.0       16.0        4.0   \n",
      "...         ...        ...        ...        ...        ...        ...   \n",
      "1792        0.0        0.0        2.0       14.0       15.0        9.0   \n",
      "1793        0.0        0.0        6.0       16.0       14.0        6.0   \n",
      "1794        0.0        0.0        2.0        9.0       13.0        6.0   \n",
      "1795        0.0        0.0        5.0       12.0       16.0       12.0   \n",
      "1796        0.0        1.0        8.0       12.0       14.0       12.0   \n",
      "\n",
      "      pixel_7_6  pixel_7_7  \n",
      "0           0.0        0.0  \n",
      "1           0.0        0.0  \n",
      "2           9.0        0.0  \n",
      "3           0.0        0.0  \n",
      "4           0.0        0.0  \n",
      "...         ...        ...  \n",
      "1792        0.0        0.0  \n",
      "1793        0.0        0.0  \n",
      "1794        0.0        0.0  \n",
      "1795        0.0        0.0  \n",
      "1796        1.0        0.0  \n",
      "\n",
      "[1797 rows x 64 columns]\n",
      "----------------------------------------------------------------------------------------------------\n"
     ]
    }
   ],
   "source": [
    "# 데이터 로딩\n",
    "digitbunch = load_digits(as_frame=True)\n",
    "print(digitbunch.keys())\n",
    "\n",
    "# 피쳐와 레이블 추출\n",
    "# 0 ~ 9 이미지 데이터 값\n",
    "imgdf = digitbunch['data']\n",
    "print(imgdf)\n",
    "print('-'*100)\n",
    "\n",
    "# 0 ~ 9 라벨\n",
    "labelsr = digitbunch['target']\n",
    "labelsr.unique()\n",
    "\n",
    "\n",
    "# 2진 분류를 위해서 7과 나머지 라벨 변경\n",
    "mask=(labelsr == 7)\n",
    "labelsr[~mask]=0\n",
    "labelsr[mask]=1\n",
    "\n"
   ]
  },
  {
   "cell_type": "code",
   "execution_count": 4,
   "metadata": {},
   "outputs": [
    {
     "name": "stdout",
     "output_type": "stream",
     "text": [
      "target\n",
      "0    0.675014\n",
      "1    0.074569\n",
      "Name: count, dtype: float64\n",
      "target\n",
      "0    0.9\n",
      "1    0.1\n",
      "Name: count, dtype: float64\n"
     ]
    }
   ],
   "source": [
    "# 학습용 데이터셋 준비\n",
    "X_train, X_test, y_train, y_test = train_test_split(imgdf, labelsr, random_state=1, stratify=labelsr )\n",
    "\n",
    "print(y_train.value_counts()/imgdf.shape[0])\n",
    "print(y_test.value_counts()/y_test.shape[0])"
   ]
  },
  {
   "cell_type": "markdown",
   "metadata": {},
   "source": [
    "클래스 정의"
   ]
  },
  {
   "cell_type": "code",
   "execution_count": 5,
   "metadata": {},
   "outputs": [
    {
     "name": "stdout",
     "output_type": "stream",
     "text": [
      "[[False]\n",
      " [False]\n",
      " [False]\n",
      " ...\n",
      " [False]\n",
      " [False]\n",
      " [False]]\n",
      "1213 0 134 0\n"
     ]
    }
   ],
   "source": [
    "# 사용자 정의 클래스 DummyClass : 아무것도 하지 않는 클래스 단순 테스트용\n",
    "from sklearn.base import BaseEstimator\n",
    "class MyClassifier(BaseEstimator):\n",
    "\n",
    "    def fit(self, X, y): pass\n",
    "\n",
    "    def predict(self,X): return np.zeros((len(X), 1), dtype=bool)\n",
    "\n",
    "#학습\n",
    "# 인스턴스 생성\n",
    "model = MyClassifier()\n",
    "\n",
    "# 학습\n",
    "model.fit(X_train, y_train)\n",
    "\n",
    "#예측 및 성능 평가\n",
    "pre_ = model.predict(X_train)\n",
    "print(pre_)\n",
    "\n",
    "# 정확도 : 맞춘 개수 / 전체 개수 -> 불균형 데이터일 경우 신뢰 할 수 없음.\n",
    "accuracy_score(y_train, pre_)\n",
    "\n",
    "# 오차 행렬\n",
    "from sklearn.metrics import confusion_matrix\n",
    "# 정답과 예측값 전달\n",
    "tn, fp, fn, tp = confusion_matrix(y_train, pre_, labels=[0, 1]).reshape(-1)\n",
    "\n",
    "print(tn, fp, fn, tp)"
   ]
  },
  {
   "cell_type": "markdown",
   "metadata": {},
   "source": [
    "정밀도(precision) : 모델(예측) 중심!"
   ]
  },
  {
   "cell_type": "code",
   "execution_count": 6,
   "metadata": {},
   "outputs": [
    {
     "name": "stderr",
     "output_type": "stream",
     "text": [
      "c:\\Users\\KDP-26\\anaconda3\\envs\\ML_38\\lib\\site-packages\\sklearn\\metrics\\_classification.py:1469: UndefinedMetricWarning: Precision is ill-defined and being set to 0.0 due to no predicted samples. Use `zero_division` parameter to control this behavior.\n",
      "  _warn_prf(average, modifier, msg_start, len(result))\n"
     ]
    },
    {
     "data": {
      "text/plain": [
       "0.0"
      ]
     },
     "execution_count": 6,
     "metadata": {},
     "output_type": "execute_result"
    }
   ],
   "source": [
    "from sklearn.metrics import precision_score\n",
    "\n",
    "precision_score(y_train, pre_)"
   ]
  },
  {
   "cell_type": "code",
   "execution_count": 7,
   "metadata": {},
   "outputs": [
    {
     "data": {
      "text/plain": [
       "0.0"
      ]
     },
     "execution_count": 7,
     "metadata": {},
     "output_type": "execute_result"
    }
   ],
   "source": [
    "from sklearn.metrics import recall_score\n",
    "recall_score(y_train, pre_)"
   ]
  },
  {
   "cell_type": "code",
   "execution_count": 8,
   "metadata": {},
   "outputs": [],
   "source": [
    "# 오차행렬\n",
    "from sklearn.metrics import confusion_matrix, classification_report\n",
    "y_test= [0,0,0,1,1, 1,0,0,0,1,  1,1,1,0,0,  0,0,0,0,0]\n",
    "y_pre = [1,1,1,1,1, 1,0,1,0,1,  1,1,1,0,0,  0,0,0,0,0]\n"
   ]
  },
  {
   "cell_type": "code",
   "execution_count": 9,
   "metadata": {},
   "outputs": [
    {
     "name": "stdout",
     "output_type": "stream",
     "text": [
      "9 4 0 7\n"
     ]
    }
   ],
   "source": [
    "# 정답과 예측값 전달\n",
    "(tn, fp, fn, tp) = confusion_matrix(y_test, y_pre).reshape(-1)\n",
    "print(tn, fp, fn, tp)"
   ]
  },
  {
   "cell_type": "code",
   "execution_count": 10,
   "metadata": {},
   "outputs": [
    {
     "name": "stdout",
     "output_type": "stream",
     "text": [
      "[[9 4]\n",
      " [0 7]]\n",
      "1.0\n"
     ]
    }
   ],
   "source": [
    "print(confusion_matrix(y_test, y_pre))\n",
    "print(recall_score(y_test, y_pre))"
   ]
  },
  {
   "cell_type": "code",
   "execution_count": 12,
   "metadata": {},
   "outputs": [
    {
     "data": {
      "text/plain": [
       "'              precision    recall  f1-score   support\\n\\n           0       1.00      0.69      0.82        13\\n           1       0.64      1.00      0.78         7\\n\\n    accuracy                           0.80        20\\n   macro avg       0.82      0.85      0.80        20\\nweighted avg       0.87      0.80      0.80        20\\n'"
      ]
     },
     "execution_count": 12,
     "metadata": {},
     "output_type": "execute_result"
    }
   ],
   "source": [
    "from sklearn.metrics import classification_report\n",
    "classification_report(y_test, y_pre)"
   ]
  }
 ],
 "metadata": {
  "kernelspec": {
   "display_name": "ML_38",
   "language": "python",
   "name": "python3"
  },
  "language_info": {
   "codemirror_mode": {
    "name": "ipython",
    "version": 3
   },
   "file_extension": ".py",
   "mimetype": "text/x-python",
   "name": "python",
   "nbconvert_exporter": "python",
   "pygments_lexer": "ipython3",
   "version": "3.8.19"
  }
 },
 "nbformat": 4,
 "nbformat_minor": 2
}
