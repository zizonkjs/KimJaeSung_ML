{
 "cells": [
  {
   "cell_type": "markdown",
   "metadata": {},
   "source": [
    "#### 피쳐 전처리\n",
    "- 수치형 피쳐 전처리 -> 스케일링 범위\n",
    "- 범주형 피쳐 전처리 -> 인코딩"
   ]
  },
  {
   "cell_type": "code",
   "execution_count": 18,
   "metadata": {},
   "outputs": [],
   "source": [
    "# 모듈 로딩\n",
    "from sklearn.preprocessing import LabelEncoder\n"
   ]
  },
  {
   "cell_type": "code",
   "execution_count": 19,
   "metadata": {},
   "outputs": [],
   "source": [
    "# 정수 인코딩\n",
    "items = ['TV', '냉장고', '선풍기', '에어컨']"
   ]
  },
  {
   "cell_type": "code",
   "execution_count": 20,
   "metadata": {},
   "outputs": [
    {
     "name": "stdout",
     "output_type": "stream",
     "text": [
      "인코딩 변환값: [0 1 2 3]\n"
     ]
    }
   ],
   "source": [
    "# 라벨/정수 인코더 인스턴스 생성\n",
    "encoder = LabelEncoder()\n",
    "\n",
    "# 라벨/정수 인코더의 범위 및 맵핑 작업\n",
    "encoder.fit(items)\n",
    "labels = encoder.transform(items)\n",
    "print('인코딩 변환값:', labels)"
   ]
  },
  {
   "cell_type": "code",
   "execution_count": 21,
   "metadata": {},
   "outputs": [],
   "source": [
    "# 원핫 인코딩\n",
    "from sklearn.preprocessing import OneHotEncoder\n",
    "import numpy as np"
   ]
  },
  {
   "cell_type": "code",
   "execution_count": 22,
   "metadata": {},
   "outputs": [
    {
     "name": "stdout",
     "output_type": "stream",
     "text": [
      "[['TV']\n",
      " ['냉장고']\n",
      " ['선풍기']\n",
      " ['에어컨']]\n",
      "원 핫 인코딩 데이터\n",
      "[[1. 0. 0. 0.]\n",
      " [0. 1. 0. 0.]\n",
      " [0. 0. 1. 0.]\n",
      " [0. 0. 0. 1.]]\n",
      "원 핫 인코딩 데이터 차원\n",
      "(4, 4)\n"
     ]
    }
   ],
   "source": [
    "# 2D로 변경\n",
    "items = np.array(items).reshape(-1,1)\n",
    "print(items)\n",
    "\n",
    "one_encoder = OneHotEncoder()\n",
    "one_encoder.fit(items)\n",
    "onelabels = one_encoder.transform(items)\n",
    "\n",
    "print('원 핫 인코딩 데이터')\n",
    "print(onelabels.toarray())\n",
    "print('원 핫 인코딩 데이터 차원')\n",
    "print(onelabels.shape)"
   ]
  },
  {
   "cell_type": "code",
   "execution_count": 23,
   "metadata": {},
   "outputs": [],
   "source": [
    "# 정수 인코딩 -> 범주형 피쳐\n",
    "from sklearn.preprocessing import OrdinalEncoder"
   ]
  },
  {
   "cell_type": "code",
   "execution_count": 24,
   "metadata": {},
   "outputs": [],
   "source": [
    "data = [['male', 'C', 'child'],['fmale', 'T', 'man']]"
   ]
  },
  {
   "cell_type": "code",
   "execution_count": 25,
   "metadata": {},
   "outputs": [
    {
     "name": "stdout",
     "output_type": "stream",
     "text": [
      "인코딩 변환값: [[1. 0. 0.]\n",
      " [0. 1. 1.]]\n"
     ]
    }
   ],
   "source": [
    "# 정수 인코더 instance 생성\n",
    "odEncoding = OrdinalEncoder()\n",
    "odEncoding.fit(data)\n",
    "label = odEncoding.transform(data)\n",
    "print('인코딩 변환값:', label)"
   ]
  },
  {
   "cell_type": "code",
   "execution_count": null,
   "metadata": {},
   "outputs": [],
   "source": []
  }
 ],
 "metadata": {
  "kernelspec": {
   "display_name": "ML_38",
   "language": "python",
   "name": "python3"
  },
  "language_info": {
   "codemirror_mode": {
    "name": "ipython",
    "version": 3
   },
   "file_extension": ".py",
   "mimetype": "text/x-python",
   "name": "python",
   "nbconvert_exporter": "python",
   "pygments_lexer": "ipython3",
   "version": "3.8.19"
  }
 },
 "nbformat": 4,
 "nbformat_minor": 2
}
