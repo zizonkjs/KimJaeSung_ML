{
 "cells": [
  {
   "cell_type": "markdown",
   "metadata": {},
   "source": [
    "#### 보스턴 집값 예측 모델\n",
    "- 데이터셋 : boston.csv\n",
    "- 학습방법 : 지도학습 >> 회귀\n",
    "- 피쳐/독립 : 13개\n",
    "- 타겟/종속 : 1개"
   ]
  },
  {
   "cell_type": "markdown",
   "metadata": {},
   "source": [
    "데이터준비"
   ]
  },
  {
   "cell_type": "code",
   "execution_count": 12,
   "metadata": {},
   "outputs": [],
   "source": [
    "# 모듈로딩\n",
    "import pandas as pd\n",
    "import numpy as np\n",
    "from sklearn.preprocessing import StandardScaler, MinMaxScaler, RobustScaler\n",
    "from sklearn.model_selection import train_test_split"
   ]
  },
  {
   "cell_type": "code",
   "execution_count": 13,
   "metadata": {},
   "outputs": [],
   "source": [
    "# 데이터\n",
    "DATA_FILE = '../data/boston.csv'\n"
   ]
  },
  {
   "cell_type": "code",
   "execution_count": 14,
   "metadata": {},
   "outputs": [
    {
     "name": "stdout",
     "output_type": "stream",
     "text": [
      "<class 'pandas.core.frame.DataFrame'>\n",
      "RangeIndex: 506 entries, 0 to 505\n",
      "Data columns (total 14 columns):\n",
      " #   Column   Non-Null Count  Dtype  \n",
      "---  ------   --------------  -----  \n",
      " 0   CRIM     506 non-null    float64\n",
      " 1   ZN       506 non-null    float64\n",
      " 2   INDUS    506 non-null    float64\n",
      " 3   CHAS     506 non-null    int64  \n",
      " 4   NOX      506 non-null    float64\n",
      " 5   RM       506 non-null    float64\n",
      " 6   AGE      506 non-null    float64\n",
      " 7   DIS      506 non-null    float64\n",
      " 8   RAD      506 non-null    int64  \n",
      " 9   TAX      506 non-null    float64\n",
      " 10  PTRATIO  506 non-null    float64\n",
      " 11  B        506 non-null    float64\n",
      " 12  LSTAT    506 non-null    float64\n",
      " 13  MEDV     506 non-null    float64\n",
      "dtypes: float64(12), int64(2)\n",
      "memory usage: 55.5 KB\n"
     ]
    }
   ],
   "source": [
    "# CSV -> DataFrame\n",
    "datadf = pd.read_csv(DATA_FILE)\n",
    "datadf.info()\n"
   ]
  },
  {
   "cell_type": "code",
   "execution_count": 15,
   "metadata": {},
   "outputs": [
    {
     "data": {
      "text/plain": [
       "CRIM      ZN    INDUS  CHAS  NOX    RM     AGE    DIS      RAD  TAX    PTRATIO  B       LSTAT  MEDV\n",
       "0.00632   18.0  2.31   0     0.538  6.575  65.2   4.0900   1    296.0  15.3     396.90  4.98   24.0    1\n",
       "1.00245   0.0   8.14   0     0.538  6.674  87.3   4.2390   4    307.0  21.0     380.23  11.98  21.0    1\n",
       "1.38799   0.0   8.14   0     0.538  5.950  82.0   3.9900   4    307.0  21.0     232.60  27.71  13.2    1\n",
       "1.35472   0.0   8.14   0     0.538  6.072  100.0  4.1750   4    307.0  21.0     376.73  13.04  14.5    1\n",
       "1.34284   0.0   19.58  0     0.605  6.066  100.0  1.7573   5    403.0  14.7     353.89  6.43   24.3    1\n",
       "                                                                                                      ..\n",
       "0.11027   25.0  5.13   0     0.453  6.456  67.8   7.2255   8    284.0  19.7     396.90  6.73   22.2    1\n",
       "0.10959   0.0   11.93  0     0.573  6.794  89.3   2.3889   1    273.0  21.0     393.45  6.48   22.0    1\n",
       "0.10793   0.0   8.56   0     0.520  6.195  54.4   2.7778   5    384.0  20.9     393.49  13.00  21.7    1\n",
       "0.10659   80.0  1.91   0     0.413  5.936  19.5   10.5857  4    334.0  22.0     376.04  5.57   20.6    1\n",
       "88.97620  0.0   18.10  0     0.671  6.968  91.9   1.4165   24   666.0  20.2     396.90  17.21  10.4    1\n",
       "Name: count, Length: 506, dtype: int64"
      ]
     },
     "execution_count": 15,
     "metadata": {},
     "output_type": "execute_result"
    }
   ],
   "source": [
    "datadf.value_counts()"
   ]
  },
  {
   "cell_type": "markdown",
   "metadata": {},
   "source": [
    "### 2. 데이터 전처리\n",
    "- 2-1 데이터 정제"
   ]
  },
  {
   "cell_type": "markdown",
   "metadata": {},
   "source": [
    "결측치, 중복값, 이상치 처리, 컬럼별 고유값 추출로 이상 데이터 체크"
   ]
  },
  {
   "cell_type": "markdown",
   "metadata": {},
   "source": [
    "#### 2-2 : 표준화 & 정규화 ---> 진행 여부에 따라 성능의 변화는 경우에 따라 다름\n",
    " - 정규분포 데이터셋을 기반으로한 모델 -> standardScaler, Log 변환\n",
    " - 피쳐의 값의 범위 차이를 줄이기 --> 피쳐 스케일링, MinMaxScaler, RobustScaler....\n",
    " - 범주형 피쳐 ---> 수치화 인코딩 OneHotEncoder, OrdinalEncoder\n",
    " - 문자열 타겟 ---> 정수 라벨인코딩 LableEncoder "
   ]
  },
  {
   "cell_type": "markdown",
   "metadata": {},
   "source": [
    "#### 2-3 : 피쳐와 타겟 분리"
   ]
  },
  {
   "cell_type": "code",
   "execution_count": 16,
   "metadata": {},
   "outputs": [
    {
     "name": "stdout",
     "output_type": "stream",
     "text": [
      "featuredf : (506, 13)   target : (506,)\n"
     ]
    }
   ],
   "source": [
    "featuredf=datadf.iloc[:, :-1]\n",
    "target=datadf['MEDV']\n",
    "print(f'featuredf : {featuredf.shape}   target : {target.shape}'  )"
   ]
  },
  {
   "cell_type": "markdown",
   "metadata": {},
   "source": [
    "#### 3. 학습준비"
   ]
  },
  {
   "cell_type": "markdown",
   "metadata": {},
   "source": [
    "3-1 학습용 데이터셋과 테스트용 데이터셋 분리"
   ]
  },
  {
   "cell_type": "code",
   "execution_count": 17,
   "metadata": {},
   "outputs": [
    {
     "name": "stdout",
     "output_type": "stream",
     "text": [
      "(379, 13) (127, 13) (379,) (127,)\n"
     ]
    }
   ],
   "source": [
    "x_train, x_test, y_train, y_test = train_test_split(featuredf, target, random_state=11)\n",
    "\n",
    "print(x_train.shape, x_test.shape, y_train.shape, y_test.shape)"
   ]
  },
  {
   "cell_type": "markdown",
   "metadata": {},
   "source": [
    "3-2 학습용 데이터셋으로 스케일러 생성"
   ]
  },
  {
   "cell_type": "code",
   "execution_count": 18,
   "metadata": {},
   "outputs": [
    {
     "data": {
      "text/html": [
       "<style>#sk-container-id-2 {color: black;}#sk-container-id-2 pre{padding: 0;}#sk-container-id-2 div.sk-toggleable {background-color: white;}#sk-container-id-2 label.sk-toggleable__label {cursor: pointer;display: block;width: 100%;margin-bottom: 0;padding: 0.3em;box-sizing: border-box;text-align: center;}#sk-container-id-2 label.sk-toggleable__label-arrow:before {content: \"▸\";float: left;margin-right: 0.25em;color: #696969;}#sk-container-id-2 label.sk-toggleable__label-arrow:hover:before {color: black;}#sk-container-id-2 div.sk-estimator:hover label.sk-toggleable__label-arrow:before {color: black;}#sk-container-id-2 div.sk-toggleable__content {max-height: 0;max-width: 0;overflow: hidden;text-align: left;background-color: #f0f8ff;}#sk-container-id-2 div.sk-toggleable__content pre {margin: 0.2em;color: black;border-radius: 0.25em;background-color: #f0f8ff;}#sk-container-id-2 input.sk-toggleable__control:checked~div.sk-toggleable__content {max-height: 200px;max-width: 100%;overflow: auto;}#sk-container-id-2 input.sk-toggleable__control:checked~label.sk-toggleable__label-arrow:before {content: \"▾\";}#sk-container-id-2 div.sk-estimator input.sk-toggleable__control:checked~label.sk-toggleable__label {background-color: #d4ebff;}#sk-container-id-2 div.sk-label input.sk-toggleable__control:checked~label.sk-toggleable__label {background-color: #d4ebff;}#sk-container-id-2 input.sk-hidden--visually {border: 0;clip: rect(1px 1px 1px 1px);clip: rect(1px, 1px, 1px, 1px);height: 1px;margin: -1px;overflow: hidden;padding: 0;position: absolute;width: 1px;}#sk-container-id-2 div.sk-estimator {font-family: monospace;background-color: #f0f8ff;border: 1px dotted black;border-radius: 0.25em;box-sizing: border-box;margin-bottom: 0.5em;}#sk-container-id-2 div.sk-estimator:hover {background-color: #d4ebff;}#sk-container-id-2 div.sk-parallel-item::after {content: \"\";width: 100%;border-bottom: 1px solid gray;flex-grow: 1;}#sk-container-id-2 div.sk-label:hover label.sk-toggleable__label {background-color: #d4ebff;}#sk-container-id-2 div.sk-serial::before {content: \"\";position: absolute;border-left: 1px solid gray;box-sizing: border-box;top: 0;bottom: 0;left: 50%;z-index: 0;}#sk-container-id-2 div.sk-serial {display: flex;flex-direction: column;align-items: center;background-color: white;padding-right: 0.2em;padding-left: 0.2em;position: relative;}#sk-container-id-2 div.sk-item {position: relative;z-index: 1;}#sk-container-id-2 div.sk-parallel {display: flex;align-items: stretch;justify-content: center;background-color: white;position: relative;}#sk-container-id-2 div.sk-item::before, #sk-container-id-2 div.sk-parallel-item::before {content: \"\";position: absolute;border-left: 1px solid gray;box-sizing: border-box;top: 0;bottom: 0;left: 50%;z-index: -1;}#sk-container-id-2 div.sk-parallel-item {display: flex;flex-direction: column;z-index: 1;position: relative;background-color: white;}#sk-container-id-2 div.sk-parallel-item:first-child::after {align-self: flex-end;width: 50%;}#sk-container-id-2 div.sk-parallel-item:last-child::after {align-self: flex-start;width: 50%;}#sk-container-id-2 div.sk-parallel-item:only-child::after {width: 0;}#sk-container-id-2 div.sk-dashed-wrapped {border: 1px dashed gray;margin: 0 0.4em 0.5em 0.4em;box-sizing: border-box;padding-bottom: 0.4em;background-color: white;}#sk-container-id-2 div.sk-label label {font-family: monospace;font-weight: bold;display: inline-block;line-height: 1.2em;}#sk-container-id-2 div.sk-label-container {text-align: center;}#sk-container-id-2 div.sk-container {/* jupyter's `normalize.less` sets `[hidden] { display: none; }` but bootstrap.min.css set `[hidden] { display: none !important; }` so we also need the `!important` here to be able to override the default hidden behavior on the sphinx rendered scikit-learn.org. See: https://github.com/scikit-learn/scikit-learn/issues/21755 */display: inline-block !important;position: relative;}#sk-container-id-2 div.sk-text-repr-fallback {display: none;}</style><div id=\"sk-container-id-2\" class=\"sk-top-container\"><div class=\"sk-text-repr-fallback\"><pre>StandardScaler()</pre><b>In a Jupyter environment, please rerun this cell to show the HTML representation or trust the notebook. <br />On GitHub, the HTML representation is unable to render, please try loading this page with nbviewer.org.</b></div><div class=\"sk-container\" hidden><div class=\"sk-item\"><div class=\"sk-estimator sk-toggleable\"><input class=\"sk-toggleable__control sk-hidden--visually\" id=\"sk-estimator-id-2\" type=\"checkbox\" checked><label for=\"sk-estimator-id-2\" class=\"sk-toggleable__label sk-toggleable__label-arrow\">StandardScaler</label><div class=\"sk-toggleable__content\"><pre>StandardScaler()</pre></div></div></div></div></div>"
      ],
      "text/plain": [
       "StandardScaler()"
      ]
     },
     "execution_count": 18,
     "metadata": {},
     "output_type": "execute_result"
    }
   ],
   "source": [
    "### 수치 피쳐 값의 범위 차가 큼 --> Scaling 진행\n",
    "ssScaler = StandardScaler()\n",
    "ssScaler.fit(x_train)"
   ]
  },
  {
   "cell_type": "code",
   "execution_count": 19,
   "metadata": {},
   "outputs": [],
   "source": [
    "x_train_s = ssScaler.transform(x_train)\n",
    "x_test_s = ssScaler.transform(x_test)"
   ]
  },
  {
   "cell_type": "markdown",
   "metadata": {},
   "source": [
    "### 4. 학습 진행 ---> 교차검증 진행\n"
   ]
  },
  {
   "cell_type": "code",
   "execution_count": 35,
   "metadata": {},
   "outputs": [],
   "source": [
    "from sklearn.model_selection import cross_validate\n",
    "from sklearn.linear_model import Ridge, Lasso"
   ]
  },
  {
   "cell_type": "code",
   "execution_count": 36,
   "metadata": {},
   "outputs": [
    {
     "name": "stdout",
     "output_type": "stream",
     "text": [
      "[-0.44536893  0.64235274 -0.5894122   1.00002976 -1.74553684  3.53450646\n",
      "  0.36673905 -2.50600017  0.8354207  -0.70590486 -1.72392346  1.29147292\n",
      " -3.03752577]\n",
      "[Ridge alpha = 0.0]\n",
      "    test_r2  train_r2      diff\n",
      "0  0.821414  0.697573  0.123840\n",
      "1  0.623890  0.769995 -0.146104\n",
      "2  0.652630  0.745696 -0.093066\n",
      "\n",
      "[-0.         -0.         -0.          0.23179892 -0.          3.44605627\n",
      " -0.         -0.         -0.         -0.08736485 -1.29427183  0.81369581\n",
      " -2.72850689]\n",
      "[Ridge alpha = 1.0]\n",
      "    test_r2  train_r2      diff\n",
      "0  0.741372  0.651422  0.089950\n",
      "1  0.518588  0.707633 -0.189045\n",
      "2  0.656041  0.695648 -0.039607\n",
      "\n",
      "[-0.  0. -0.  0. -0.  0. -0.  0. -0. -0. -0.  0. -0.]\n",
      "[Ridge alpha = 10]\n",
      "    test_r2  train_r2      diff\n",
      "0 -0.029650       0.0 -0.029650\n",
      "1 -0.008880       0.0 -0.008880\n",
      "2 -0.008048       0.0 -0.008048\n",
      "\n",
      "[-0.  0. -0.  0. -0.  0. -0.  0. -0. -0. -0.  0. -0.]\n",
      "[Ridge alpha = 100]\n",
      "    test_r2  train_r2      diff\n",
      "0 -0.029650       0.0 -0.029650\n",
      "1 -0.008880       0.0 -0.008880\n",
      "2 -0.008048       0.0 -0.008048\n",
      "\n",
      "[-0.  0. -0.  0. -0.  0. -0.  0. -0. -0. -0.  0. -0.]\n",
      "[Ridge alpha = 1000]\n",
      "    test_r2  train_r2      diff\n",
      "0 -0.029650       0.0 -0.029650\n",
      "1 -0.008880       0.0 -0.008880\n",
      "2 -0.008048       0.0 -0.008048\n",
      "\n"
     ]
    },
    {
     "name": "stderr",
     "output_type": "stream",
     "text": [
      "c:\\Users\\KDP-26\\anaconda3\\envs\\ML_38\\lib\\site-packages\\sklearn\\base.py:1151: UserWarning: With alpha=0, this algorithm does not converge well. You are advised to use the LinearRegression estimator\n",
      "  return fit_method(estimator, *args, **kwargs)\n",
      "c:\\Users\\KDP-26\\anaconda3\\envs\\ML_38\\lib\\site-packages\\sklearn\\linear_model\\_coordinate_descent.py:628: UserWarning: Coordinate descent with no regularization may lead to unexpected results and is discouraged.\n",
      "  model = cd_fast.enet_coordinate_descent(\n",
      "c:\\Users\\KDP-26\\anaconda3\\envs\\ML_38\\lib\\site-packages\\sklearn\\linear_model\\_coordinate_descent.py:628: ConvergenceWarning: Objective did not converge. You might want to increase the number of iterations, check the scale of the features or consider increasing regularisation. Duality gap: 3.093e+03, tolerance: 2.045e+00 Linear regression models with null weight for the l1 regularization term are more efficiently fitted using one of the solvers implemented in sklearn.linear_model.Ridge/RidgeCV instead.\n",
      "  model = cd_fast.enet_coordinate_descent(\n",
      "c:\\Users\\KDP-26\\anaconda3\\envs\\ML_38\\lib\\site-packages\\sklearn\\base.py:1151: UserWarning: With alpha=0, this algorithm does not converge well. You are advised to use the LinearRegression estimator\n",
      "  return fit_method(estimator, *args, **kwargs)\n",
      "c:\\Users\\KDP-26\\anaconda3\\envs\\ML_38\\lib\\site-packages\\sklearn\\linear_model\\_coordinate_descent.py:628: UserWarning: Coordinate descent with no regularization may lead to unexpected results and is discouraged.\n",
      "  model = cd_fast.enet_coordinate_descent(\n",
      "c:\\Users\\KDP-26\\anaconda3\\envs\\ML_38\\lib\\site-packages\\sklearn\\linear_model\\_coordinate_descent.py:628: ConvergenceWarning: Objective did not converge. You might want to increase the number of iterations, check the scale of the features or consider increasing regularisation. Duality gap: 2.398e+03, tolerance: 2.085e+00 Linear regression models with null weight for the l1 regularization term are more efficiently fitted using one of the solvers implemented in sklearn.linear_model.Ridge/RidgeCV instead.\n",
      "  model = cd_fast.enet_coordinate_descent(\n",
      "c:\\Users\\KDP-26\\anaconda3\\envs\\ML_38\\lib\\site-packages\\sklearn\\base.py:1151: UserWarning: With alpha=0, this algorithm does not converge well. You are advised to use the LinearRegression estimator\n",
      "  return fit_method(estimator, *args, **kwargs)\n",
      "c:\\Users\\KDP-26\\anaconda3\\envs\\ML_38\\lib\\site-packages\\sklearn\\linear_model\\_coordinate_descent.py:628: UserWarning: Coordinate descent with no regularization may lead to unexpected results and is discouraged.\n",
      "  model = cd_fast.enet_coordinate_descent(\n",
      "c:\\Users\\KDP-26\\anaconda3\\envs\\ML_38\\lib\\site-packages\\sklearn\\linear_model\\_coordinate_descent.py:628: ConvergenceWarning: Objective did not converge. You might want to increase the number of iterations, check the scale of the features or consider increasing regularisation. Duality gap: 2.959e+03, tolerance: 2.327e+00 Linear regression models with null weight for the l1 regularization term are more efficiently fitted using one of the solvers implemented in sklearn.linear_model.Ridge/RidgeCV instead.\n",
      "  model = cd_fast.enet_coordinate_descent(\n",
      "c:\\Users\\KDP-26\\anaconda3\\envs\\ML_38\\lib\\site-packages\\sklearn\\linear_model\\_coordinate_descent.py:628: ConvergenceWarning: Objective did not converge. You might want to increase the number of iterations, check the scale of the features or consider increasing regularisation. Duality gap: 7.104e+02, tolerance: 2.045e+00\n",
      "  model = cd_fast.enet_coordinate_descent(\n",
      "c:\\Users\\KDP-26\\anaconda3\\envs\\ML_38\\lib\\site-packages\\sklearn\\linear_model\\_coordinate_descent.py:628: ConvergenceWarning: Objective did not converge. You might want to increase the number of iterations, check the scale of the features or consider increasing regularisation. Duality gap: 9.578e+02, tolerance: 2.085e+00\n",
      "  model = cd_fast.enet_coordinate_descent(\n",
      "c:\\Users\\KDP-26\\anaconda3\\envs\\ML_38\\lib\\site-packages\\sklearn\\linear_model\\_coordinate_descent.py:628: ConvergenceWarning: Objective did not converge. You might want to increase the number of iterations, check the scale of the features or consider increasing regularisation. Duality gap: 1.097e+03, tolerance: 2.327e+00\n",
      "  model = cd_fast.enet_coordinate_descent(\n"
     ]
    }
   ],
   "source": [
    "#### 모델의 성능을 좌우하는 Hyper-parameter 제어, 튜닝\n",
    "alpha_values = [0., 1., 10, 100, 1000]\n",
    "\n",
    "for value in alpha_values:\n",
    "\n",
    "    # 모델 인스턴스 생성 (alpha 값을 반복문에서 설정한 value로 변경)\n",
    "    ridge_model = Lasso(alpha=value, max_iter=3)\n",
    "\n",
    "    # 학습 진행\n",
    "    # cv : 3개\n",
    "    # scoring : 'neg_mean_squared_error', 'r2'\n",
    "    # - return_train_score\n",
    "    res = cross_validate(ridge_model, x_train_s, y_train, cv=3, scoring=['neg_mean_squared_error', 'r2'],\n",
    "                         return_train_score=True,\n",
    "                         return_estimator=True)\n",
    "    \n",
    "    resdf = pd.DataFrame(res)[['test_r2','train_r2']]\n",
    "\n",
    "    resdf['diff'] = (resdf['test_r2'] - resdf['train_r2'])\n",
    "    best_idx = resdf['diff'].sort_values()\n",
    "    \n",
    "    print(res['estimator'][0].coef_)\n",
    "    print(f'[Ridge alpha = {value}]')\n",
    "    print(resdf, end='\\n\\n')\n"
   ]
  },
  {
   "cell_type": "code",
   "execution_count": 25,
   "metadata": {},
   "outputs": [
    {
     "data": {
      "text/html": [
       "<div>\n",
       "<style scoped>\n",
       "    .dataframe tbody tr th:only-of-type {\n",
       "        vertical-align: middle;\n",
       "    }\n",
       "\n",
       "    .dataframe tbody tr th {\n",
       "        vertical-align: top;\n",
       "    }\n",
       "\n",
       "    .dataframe thead th {\n",
       "        text-align: right;\n",
       "    }\n",
       "</style>\n",
       "<table border=\"1\" class=\"dataframe\">\n",
       "  <thead>\n",
       "    <tr style=\"text-align: right;\">\n",
       "      <th></th>\n",
       "      <th>fit_time</th>\n",
       "      <th>score_time</th>\n",
       "      <th>test_neg_mean_squared_error</th>\n",
       "      <th>train_neg_mean_squared_error</th>\n",
       "      <th>test_r2</th>\n",
       "      <th>train_r2</th>\n",
       "    </tr>\n",
       "  </thead>\n",
       "  <tbody>\n",
       "    <tr>\n",
       "      <th>0</th>\n",
       "      <td>0.050559</td>\n",
       "      <td>0.000987</td>\n",
       "      <td>-19.109413</td>\n",
       "      <td>-22.886698</td>\n",
       "      <td>0.791931</td>\n",
       "      <td>0.718010</td>\n",
       "    </tr>\n",
       "    <tr>\n",
       "      <th>1</th>\n",
       "      <td>0.000000</td>\n",
       "      <td>0.000000</td>\n",
       "      <td>-30.792542</td>\n",
       "      <td>-17.156589</td>\n",
       "      <td>0.660381</td>\n",
       "      <td>0.791863</td>\n",
       "    </tr>\n",
       "    <tr>\n",
       "      <th>2</th>\n",
       "      <td>0.003849</td>\n",
       "      <td>0.001010</td>\n",
       "      <td>-22.263024</td>\n",
       "      <td>-21.149480</td>\n",
       "      <td>0.689283</td>\n",
       "      <td>0.770055</td>\n",
       "    </tr>\n",
       "  </tbody>\n",
       "</table>\n",
       "</div>"
      ],
      "text/plain": [
       "   fit_time  score_time  test_neg_mean_squared_error  \\\n",
       "0  0.050559    0.000987                   -19.109413   \n",
       "1  0.000000    0.000000                   -30.792542   \n",
       "2  0.003849    0.001010                   -22.263024   \n",
       "\n",
       "   train_neg_mean_squared_error   test_r2  train_r2  \n",
       "0                    -22.886698  0.791931  0.718010  \n",
       "1                    -17.156589  0.660381  0.791863  \n",
       "2                    -21.149480  0.689283  0.770055  "
      ]
     },
     "execution_count": 25,
     "metadata": {},
     "output_type": "execute_result"
    }
   ],
   "source": [
    "resdf=pd.DataFrame(res)\n",
    "resdf"
   ]
  },
  {
   "cell_type": "markdown",
   "metadata": {},
   "source": [
    "- 하이퍼파라미터 튜닝과 교차 검증을 동시에 진행"
   ]
  },
  {
   "cell_type": "code",
   "execution_count": 37,
   "metadata": {},
   "outputs": [],
   "source": [
    "from sklearn.model_selection import GridSearchCV"
   ]
  },
  {
   "cell_type": "code",
   "execution_count": 39,
   "metadata": {},
   "outputs": [],
   "source": [
    "# Ridge의 Hyper-parameter 값 설정\n",
    "params = {'alpha':[0.,0.1,0.5,1.0],\n",
    "          'max_iter':[3, 5]}\n",
    "# --> 0., 3 => Model # --> 0., 5 -> Model\n",
    "# --> 0., 3 => Model # --> 0.1, 5 -> Model\n",
    "# --> 0., 3 => Model # --> 0.5, 5 -> Model\n",
    "# --> 1.0, 3 => Model # --> 1.0, 5 -> Model\n",
    "## -> 8개의 Ridge 모델 생성"
   ]
  },
  {
   "cell_type": "code",
   "execution_count": 41,
   "metadata": {},
   "outputs": [],
   "source": [
    "# 인스턴스 생성\n",
    "rModel=Ridge()\n",
    "\n",
    "# GridSearchCV 인스턴스 생성\n",
    "serchCV=GridSearchCV(rModel, params, cv=3, verbose=True, return_train_score=True)"
   ]
  },
  {
   "cell_type": "code",
   "execution_count": 42,
   "metadata": {},
   "outputs": [
    {
     "name": "stdout",
     "output_type": "stream",
     "text": [
      "Fitting 3 folds for each of 8 candidates, totalling 24 fits\n"
     ]
    },
    {
     "data": {
      "text/html": [
       "<style>#sk-container-id-3 {color: black;}#sk-container-id-3 pre{padding: 0;}#sk-container-id-3 div.sk-toggleable {background-color: white;}#sk-container-id-3 label.sk-toggleable__label {cursor: pointer;display: block;width: 100%;margin-bottom: 0;padding: 0.3em;box-sizing: border-box;text-align: center;}#sk-container-id-3 label.sk-toggleable__label-arrow:before {content: \"▸\";float: left;margin-right: 0.25em;color: #696969;}#sk-container-id-3 label.sk-toggleable__label-arrow:hover:before {color: black;}#sk-container-id-3 div.sk-estimator:hover label.sk-toggleable__label-arrow:before {color: black;}#sk-container-id-3 div.sk-toggleable__content {max-height: 0;max-width: 0;overflow: hidden;text-align: left;background-color: #f0f8ff;}#sk-container-id-3 div.sk-toggleable__content pre {margin: 0.2em;color: black;border-radius: 0.25em;background-color: #f0f8ff;}#sk-container-id-3 input.sk-toggleable__control:checked~div.sk-toggleable__content {max-height: 200px;max-width: 100%;overflow: auto;}#sk-container-id-3 input.sk-toggleable__control:checked~label.sk-toggleable__label-arrow:before {content: \"▾\";}#sk-container-id-3 div.sk-estimator input.sk-toggleable__control:checked~label.sk-toggleable__label {background-color: #d4ebff;}#sk-container-id-3 div.sk-label input.sk-toggleable__control:checked~label.sk-toggleable__label {background-color: #d4ebff;}#sk-container-id-3 input.sk-hidden--visually {border: 0;clip: rect(1px 1px 1px 1px);clip: rect(1px, 1px, 1px, 1px);height: 1px;margin: -1px;overflow: hidden;padding: 0;position: absolute;width: 1px;}#sk-container-id-3 div.sk-estimator {font-family: monospace;background-color: #f0f8ff;border: 1px dotted black;border-radius: 0.25em;box-sizing: border-box;margin-bottom: 0.5em;}#sk-container-id-3 div.sk-estimator:hover {background-color: #d4ebff;}#sk-container-id-3 div.sk-parallel-item::after {content: \"\";width: 100%;border-bottom: 1px solid gray;flex-grow: 1;}#sk-container-id-3 div.sk-label:hover label.sk-toggleable__label {background-color: #d4ebff;}#sk-container-id-3 div.sk-serial::before {content: \"\";position: absolute;border-left: 1px solid gray;box-sizing: border-box;top: 0;bottom: 0;left: 50%;z-index: 0;}#sk-container-id-3 div.sk-serial {display: flex;flex-direction: column;align-items: center;background-color: white;padding-right: 0.2em;padding-left: 0.2em;position: relative;}#sk-container-id-3 div.sk-item {position: relative;z-index: 1;}#sk-container-id-3 div.sk-parallel {display: flex;align-items: stretch;justify-content: center;background-color: white;position: relative;}#sk-container-id-3 div.sk-item::before, #sk-container-id-3 div.sk-parallel-item::before {content: \"\";position: absolute;border-left: 1px solid gray;box-sizing: border-box;top: 0;bottom: 0;left: 50%;z-index: -1;}#sk-container-id-3 div.sk-parallel-item {display: flex;flex-direction: column;z-index: 1;position: relative;background-color: white;}#sk-container-id-3 div.sk-parallel-item:first-child::after {align-self: flex-end;width: 50%;}#sk-container-id-3 div.sk-parallel-item:last-child::after {align-self: flex-start;width: 50%;}#sk-container-id-3 div.sk-parallel-item:only-child::after {width: 0;}#sk-container-id-3 div.sk-dashed-wrapped {border: 1px dashed gray;margin: 0 0.4em 0.5em 0.4em;box-sizing: border-box;padding-bottom: 0.4em;background-color: white;}#sk-container-id-3 div.sk-label label {font-family: monospace;font-weight: bold;display: inline-block;line-height: 1.2em;}#sk-container-id-3 div.sk-label-container {text-align: center;}#sk-container-id-3 div.sk-container {/* jupyter's `normalize.less` sets `[hidden] { display: none; }` but bootstrap.min.css set `[hidden] { display: none !important; }` so we also need the `!important` here to be able to override the default hidden behavior on the sphinx rendered scikit-learn.org. See: https://github.com/scikit-learn/scikit-learn/issues/21755 */display: inline-block !important;position: relative;}#sk-container-id-3 div.sk-text-repr-fallback {display: none;}</style><div id=\"sk-container-id-3\" class=\"sk-top-container\"><div class=\"sk-text-repr-fallback\"><pre>GridSearchCV(cv=3, estimator=Ridge(),\n",
       "             param_grid={&#x27;alpha&#x27;: [0.0, 0.1, 0.5, 1.0], &#x27;max_iter&#x27;: [3, 5]},\n",
       "             return_train_score=True, verbose=True)</pre><b>In a Jupyter environment, please rerun this cell to show the HTML representation or trust the notebook. <br />On GitHub, the HTML representation is unable to render, please try loading this page with nbviewer.org.</b></div><div class=\"sk-container\" hidden><div class=\"sk-item sk-dashed-wrapped\"><div class=\"sk-label-container\"><div class=\"sk-label sk-toggleable\"><input class=\"sk-toggleable__control sk-hidden--visually\" id=\"sk-estimator-id-3\" type=\"checkbox\" ><label for=\"sk-estimator-id-3\" class=\"sk-toggleable__label sk-toggleable__label-arrow\">GridSearchCV</label><div class=\"sk-toggleable__content\"><pre>GridSearchCV(cv=3, estimator=Ridge(),\n",
       "             param_grid={&#x27;alpha&#x27;: [0.0, 0.1, 0.5, 1.0], &#x27;max_iter&#x27;: [3, 5]},\n",
       "             return_train_score=True, verbose=True)</pre></div></div></div><div class=\"sk-parallel\"><div class=\"sk-parallel-item\"><div class=\"sk-item\"><div class=\"sk-label-container\"><div class=\"sk-label sk-toggleable\"><input class=\"sk-toggleable__control sk-hidden--visually\" id=\"sk-estimator-id-4\" type=\"checkbox\" ><label for=\"sk-estimator-id-4\" class=\"sk-toggleable__label sk-toggleable__label-arrow\">estimator: Ridge</label><div class=\"sk-toggleable__content\"><pre>Ridge()</pre></div></div></div><div class=\"sk-serial\"><div class=\"sk-item\"><div class=\"sk-estimator sk-toggleable\"><input class=\"sk-toggleable__control sk-hidden--visually\" id=\"sk-estimator-id-5\" type=\"checkbox\" ><label for=\"sk-estimator-id-5\" class=\"sk-toggleable__label sk-toggleable__label-arrow\">Ridge</label><div class=\"sk-toggleable__content\"><pre>Ridge()</pre></div></div></div></div></div></div></div></div></div></div>"
      ],
      "text/plain": [
       "GridSearchCV(cv=3, estimator=Ridge(),\n",
       "             param_grid={'alpha': [0.0, 0.1, 0.5, 1.0], 'max_iter': [3, 5]},\n",
       "             return_train_score=True, verbose=True)"
      ]
     },
     "execution_count": 42,
     "metadata": {},
     "output_type": "execute_result"
    }
   ],
   "source": [
    "# 학습 진행\n",
    "serchCV.fit(x_train_s, y_train)"
   ]
  },
  {
   "cell_type": "code",
   "execution_count": 43,
   "metadata": {},
   "outputs": [
    {
     "data": {
      "text/plain": [
       "{'alpha': 1.0, 'max_iter': 3}"
      ]
     },
     "execution_count": 43,
     "metadata": {},
     "output_type": "execute_result"
    }
   ],
   "source": [
    "# fit() 진행 후 모델 파라미터 확인\n",
    "serchCV.best_params_"
   ]
  },
  {
   "cell_type": "code",
   "execution_count": 46,
   "metadata": {},
   "outputs": [
    {
     "data": {
      "text/html": [
       "<style>#sk-container-id-5 {color: black;}#sk-container-id-5 pre{padding: 0;}#sk-container-id-5 div.sk-toggleable {background-color: white;}#sk-container-id-5 label.sk-toggleable__label {cursor: pointer;display: block;width: 100%;margin-bottom: 0;padding: 0.3em;box-sizing: border-box;text-align: center;}#sk-container-id-5 label.sk-toggleable__label-arrow:before {content: \"▸\";float: left;margin-right: 0.25em;color: #696969;}#sk-container-id-5 label.sk-toggleable__label-arrow:hover:before {color: black;}#sk-container-id-5 div.sk-estimator:hover label.sk-toggleable__label-arrow:before {color: black;}#sk-container-id-5 div.sk-toggleable__content {max-height: 0;max-width: 0;overflow: hidden;text-align: left;background-color: #f0f8ff;}#sk-container-id-5 div.sk-toggleable__content pre {margin: 0.2em;color: black;border-radius: 0.25em;background-color: #f0f8ff;}#sk-container-id-5 input.sk-toggleable__control:checked~div.sk-toggleable__content {max-height: 200px;max-width: 100%;overflow: auto;}#sk-container-id-5 input.sk-toggleable__control:checked~label.sk-toggleable__label-arrow:before {content: \"▾\";}#sk-container-id-5 div.sk-estimator input.sk-toggleable__control:checked~label.sk-toggleable__label {background-color: #d4ebff;}#sk-container-id-5 div.sk-label input.sk-toggleable__control:checked~label.sk-toggleable__label {background-color: #d4ebff;}#sk-container-id-5 input.sk-hidden--visually {border: 0;clip: rect(1px 1px 1px 1px);clip: rect(1px, 1px, 1px, 1px);height: 1px;margin: -1px;overflow: hidden;padding: 0;position: absolute;width: 1px;}#sk-container-id-5 div.sk-estimator {font-family: monospace;background-color: #f0f8ff;border: 1px dotted black;border-radius: 0.25em;box-sizing: border-box;margin-bottom: 0.5em;}#sk-container-id-5 div.sk-estimator:hover {background-color: #d4ebff;}#sk-container-id-5 div.sk-parallel-item::after {content: \"\";width: 100%;border-bottom: 1px solid gray;flex-grow: 1;}#sk-container-id-5 div.sk-label:hover label.sk-toggleable__label {background-color: #d4ebff;}#sk-container-id-5 div.sk-serial::before {content: \"\";position: absolute;border-left: 1px solid gray;box-sizing: border-box;top: 0;bottom: 0;left: 50%;z-index: 0;}#sk-container-id-5 div.sk-serial {display: flex;flex-direction: column;align-items: center;background-color: white;padding-right: 0.2em;padding-left: 0.2em;position: relative;}#sk-container-id-5 div.sk-item {position: relative;z-index: 1;}#sk-container-id-5 div.sk-parallel {display: flex;align-items: stretch;justify-content: center;background-color: white;position: relative;}#sk-container-id-5 div.sk-item::before, #sk-container-id-5 div.sk-parallel-item::before {content: \"\";position: absolute;border-left: 1px solid gray;box-sizing: border-box;top: 0;bottom: 0;left: 50%;z-index: -1;}#sk-container-id-5 div.sk-parallel-item {display: flex;flex-direction: column;z-index: 1;position: relative;background-color: white;}#sk-container-id-5 div.sk-parallel-item:first-child::after {align-self: flex-end;width: 50%;}#sk-container-id-5 div.sk-parallel-item:last-child::after {align-self: flex-start;width: 50%;}#sk-container-id-5 div.sk-parallel-item:only-child::after {width: 0;}#sk-container-id-5 div.sk-dashed-wrapped {border: 1px dashed gray;margin: 0 0.4em 0.5em 0.4em;box-sizing: border-box;padding-bottom: 0.4em;background-color: white;}#sk-container-id-5 div.sk-label label {font-family: monospace;font-weight: bold;display: inline-block;line-height: 1.2em;}#sk-container-id-5 div.sk-label-container {text-align: center;}#sk-container-id-5 div.sk-container {/* jupyter's `normalize.less` sets `[hidden] { display: none; }` but bootstrap.min.css set `[hidden] { display: none !important; }` so we also need the `!important` here to be able to override the default hidden behavior on the sphinx rendered scikit-learn.org. See: https://github.com/scikit-learn/scikit-learn/issues/21755 */display: inline-block !important;position: relative;}#sk-container-id-5 div.sk-text-repr-fallback {display: none;}</style><div id=\"sk-container-id-5\" class=\"sk-top-container\"><div class=\"sk-text-repr-fallback\"><pre>Ridge(max_iter=3)</pre><b>In a Jupyter environment, please rerun this cell to show the HTML representation or trust the notebook. <br />On GitHub, the HTML representation is unable to render, please try loading this page with nbviewer.org.</b></div><div class=\"sk-container\" hidden><div class=\"sk-item\"><div class=\"sk-estimator sk-toggleable\"><input class=\"sk-toggleable__control sk-hidden--visually\" id=\"sk-estimator-id-7\" type=\"checkbox\" checked><label for=\"sk-estimator-id-7\" class=\"sk-toggleable__label sk-toggleable__label-arrow\">Ridge</label><div class=\"sk-toggleable__content\"><pre>Ridge(max_iter=3)</pre></div></div></div></div></div>"
      ],
      "text/plain": [
       "Ridge(max_iter=3)"
      ]
     },
     "execution_count": 46,
     "metadata": {},
     "output_type": "execute_result"
    }
   ],
   "source": [
    "bestModel=serchCV.best_estimator_\n",
    "bestModel"
   ]
  },
  {
   "cell_type": "code",
   "execution_count": 45,
   "metadata": {},
   "outputs": [
    {
     "data": {
      "text/plain": [
       "6"
      ]
     },
     "execution_count": 45,
     "metadata": {},
     "output_type": "execute_result"
    }
   ],
   "source": [
    "serchCV.best_index_"
   ]
  },
  {
   "cell_type": "code",
   "execution_count": 47,
   "metadata": {},
   "outputs": [
    {
     "data": {
      "text/html": [
       "<div>\n",
       "<style scoped>\n",
       "    .dataframe tbody tr th:only-of-type {\n",
       "        vertical-align: middle;\n",
       "    }\n",
       "\n",
       "    .dataframe tbody tr th {\n",
       "        vertical-align: top;\n",
       "    }\n",
       "\n",
       "    .dataframe thead th {\n",
       "        text-align: right;\n",
       "    }\n",
       "</style>\n",
       "<table border=\"1\" class=\"dataframe\">\n",
       "  <thead>\n",
       "    <tr style=\"text-align: right;\">\n",
       "      <th></th>\n",
       "      <th>mean_fit_time</th>\n",
       "      <th>std_fit_time</th>\n",
       "      <th>mean_score_time</th>\n",
       "      <th>std_score_time</th>\n",
       "      <th>param_alpha</th>\n",
       "      <th>param_max_iter</th>\n",
       "      <th>params</th>\n",
       "      <th>split0_test_score</th>\n",
       "      <th>split1_test_score</th>\n",
       "      <th>split2_test_score</th>\n",
       "      <th>mean_test_score</th>\n",
       "      <th>std_test_score</th>\n",
       "      <th>rank_test_score</th>\n",
       "      <th>split0_train_score</th>\n",
       "      <th>split1_train_score</th>\n",
       "      <th>split2_train_score</th>\n",
       "      <th>mean_train_score</th>\n",
       "      <th>std_train_score</th>\n",
       "    </tr>\n",
       "  </thead>\n",
       "  <tbody>\n",
       "    <tr>\n",
       "      <th>0</th>\n",
       "      <td>0.001681</td>\n",
       "      <td>6.187083e-04</td>\n",
       "      <td>0.000848</td>\n",
       "      <td>2.353036e-04</td>\n",
       "      <td>0.0</td>\n",
       "      <td>3</td>\n",
       "      <td>{'alpha': 0.0, 'max_iter': 3}</td>\n",
       "      <td>0.791372</td>\n",
       "      <td>0.660149</td>\n",
       "      <td>0.687806</td>\n",
       "      <td>0.713109</td>\n",
       "      <td>0.056481</td>\n",
       "      <td>7</td>\n",
       "      <td>0.718084</td>\n",
       "      <td>0.791911</td>\n",
       "      <td>0.770100</td>\n",
       "      <td>0.760032</td>\n",
       "      <td>0.030969</td>\n",
       "    </tr>\n",
       "    <tr>\n",
       "      <th>1</th>\n",
       "      <td>0.000962</td>\n",
       "      <td>3.462756e-05</td>\n",
       "      <td>0.000336</td>\n",
       "      <td>4.746297e-04</td>\n",
       "      <td>0.0</td>\n",
       "      <td>5</td>\n",
       "      <td>{'alpha': 0.0, 'max_iter': 5}</td>\n",
       "      <td>0.791372</td>\n",
       "      <td>0.660149</td>\n",
       "      <td>0.687806</td>\n",
       "      <td>0.713109</td>\n",
       "      <td>0.056481</td>\n",
       "      <td>7</td>\n",
       "      <td>0.718084</td>\n",
       "      <td>0.791911</td>\n",
       "      <td>0.770100</td>\n",
       "      <td>0.760032</td>\n",
       "      <td>0.030969</td>\n",
       "    </tr>\n",
       "    <tr>\n",
       "      <th>2</th>\n",
       "      <td>0.001000</td>\n",
       "      <td>4.590203e-06</td>\n",
       "      <td>0.000661</td>\n",
       "      <td>4.676240e-04</td>\n",
       "      <td>0.1</td>\n",
       "      <td>3</td>\n",
       "      <td>{'alpha': 0.1, 'max_iter': 3}</td>\n",
       "      <td>0.791442</td>\n",
       "      <td>0.660176</td>\n",
       "      <td>0.687963</td>\n",
       "      <td>0.713194</td>\n",
       "      <td>0.056481</td>\n",
       "      <td>5</td>\n",
       "      <td>0.718083</td>\n",
       "      <td>0.791911</td>\n",
       "      <td>0.770100</td>\n",
       "      <td>0.760031</td>\n",
       "      <td>0.030970</td>\n",
       "    </tr>\n",
       "    <tr>\n",
       "      <th>3</th>\n",
       "      <td>0.001327</td>\n",
       "      <td>4.715406e-04</td>\n",
       "      <td>0.000997</td>\n",
       "      <td>7.370010e-07</td>\n",
       "      <td>0.1</td>\n",
       "      <td>5</td>\n",
       "      <td>{'alpha': 0.1, 'max_iter': 5}</td>\n",
       "      <td>0.791442</td>\n",
       "      <td>0.660176</td>\n",
       "      <td>0.687963</td>\n",
       "      <td>0.713194</td>\n",
       "      <td>0.056481</td>\n",
       "      <td>5</td>\n",
       "      <td>0.718083</td>\n",
       "      <td>0.791911</td>\n",
       "      <td>0.770100</td>\n",
       "      <td>0.760031</td>\n",
       "      <td>0.030970</td>\n",
       "    </tr>\n",
       "    <tr>\n",
       "      <th>4</th>\n",
       "      <td>0.000997</td>\n",
       "      <td>1.461091e-06</td>\n",
       "      <td>0.000667</td>\n",
       "      <td>4.719468e-04</td>\n",
       "      <td>0.5</td>\n",
       "      <td>3</td>\n",
       "      <td>{'alpha': 0.5, 'max_iter': 3}</td>\n",
       "      <td>0.791689</td>\n",
       "      <td>0.660276</td>\n",
       "      <td>0.688568</td>\n",
       "      <td>0.713511</td>\n",
       "      <td>0.056474</td>\n",
       "      <td>3</td>\n",
       "      <td>0.718064</td>\n",
       "      <td>0.791899</td>\n",
       "      <td>0.770089</td>\n",
       "      <td>0.760017</td>\n",
       "      <td>0.030973</td>\n",
       "    </tr>\n",
       "    <tr>\n",
       "      <th>5</th>\n",
       "      <td>0.001025</td>\n",
       "      <td>4.122382e-05</td>\n",
       "      <td>0.000663</td>\n",
       "      <td>4.690664e-04</td>\n",
       "      <td>0.5</td>\n",
       "      <td>5</td>\n",
       "      <td>{'alpha': 0.5, 'max_iter': 5}</td>\n",
       "      <td>0.791689</td>\n",
       "      <td>0.660276</td>\n",
       "      <td>0.688568</td>\n",
       "      <td>0.713511</td>\n",
       "      <td>0.056474</td>\n",
       "      <td>3</td>\n",
       "      <td>0.718064</td>\n",
       "      <td>0.791899</td>\n",
       "      <td>0.770089</td>\n",
       "      <td>0.760017</td>\n",
       "      <td>0.030973</td>\n",
       "    </tr>\n",
       "    <tr>\n",
       "      <th>6</th>\n",
       "      <td>0.000664</td>\n",
       "      <td>4.694603e-04</td>\n",
       "      <td>0.000664</td>\n",
       "      <td>4.698532e-04</td>\n",
       "      <td>1.0</td>\n",
       "      <td>3</td>\n",
       "      <td>{'alpha': 1.0, 'max_iter': 3}</td>\n",
       "      <td>0.791931</td>\n",
       "      <td>0.660381</td>\n",
       "      <td>0.689283</td>\n",
       "      <td>0.713865</td>\n",
       "      <td>0.056448</td>\n",
       "      <td>1</td>\n",
       "      <td>0.718010</td>\n",
       "      <td>0.791863</td>\n",
       "      <td>0.770055</td>\n",
       "      <td>0.759976</td>\n",
       "      <td>0.030982</td>\n",
       "    </tr>\n",
       "    <tr>\n",
       "      <th>7</th>\n",
       "      <td>0.000997</td>\n",
       "      <td>2.973602e-07</td>\n",
       "      <td>0.000000</td>\n",
       "      <td>0.000000e+00</td>\n",
       "      <td>1.0</td>\n",
       "      <td>5</td>\n",
       "      <td>{'alpha': 1.0, 'max_iter': 5}</td>\n",
       "      <td>0.791931</td>\n",
       "      <td>0.660381</td>\n",
       "      <td>0.689283</td>\n",
       "      <td>0.713865</td>\n",
       "      <td>0.056448</td>\n",
       "      <td>1</td>\n",
       "      <td>0.718010</td>\n",
       "      <td>0.791863</td>\n",
       "      <td>0.770055</td>\n",
       "      <td>0.759976</td>\n",
       "      <td>0.030982</td>\n",
       "    </tr>\n",
       "  </tbody>\n",
       "</table>\n",
       "</div>"
      ],
      "text/plain": [
       "   mean_fit_time  std_fit_time  mean_score_time  std_score_time param_alpha  \\\n",
       "0       0.001681  6.187083e-04         0.000848    2.353036e-04         0.0   \n",
       "1       0.000962  3.462756e-05         0.000336    4.746297e-04         0.0   \n",
       "2       0.001000  4.590203e-06         0.000661    4.676240e-04         0.1   \n",
       "3       0.001327  4.715406e-04         0.000997    7.370010e-07         0.1   \n",
       "4       0.000997  1.461091e-06         0.000667    4.719468e-04         0.5   \n",
       "5       0.001025  4.122382e-05         0.000663    4.690664e-04         0.5   \n",
       "6       0.000664  4.694603e-04         0.000664    4.698532e-04         1.0   \n",
       "7       0.000997  2.973602e-07         0.000000    0.000000e+00         1.0   \n",
       "\n",
       "  param_max_iter                         params  split0_test_score  \\\n",
       "0              3  {'alpha': 0.0, 'max_iter': 3}           0.791372   \n",
       "1              5  {'alpha': 0.0, 'max_iter': 5}           0.791372   \n",
       "2              3  {'alpha': 0.1, 'max_iter': 3}           0.791442   \n",
       "3              5  {'alpha': 0.1, 'max_iter': 5}           0.791442   \n",
       "4              3  {'alpha': 0.5, 'max_iter': 3}           0.791689   \n",
       "5              5  {'alpha': 0.5, 'max_iter': 5}           0.791689   \n",
       "6              3  {'alpha': 1.0, 'max_iter': 3}           0.791931   \n",
       "7              5  {'alpha': 1.0, 'max_iter': 5}           0.791931   \n",
       "\n",
       "   split1_test_score  split2_test_score  mean_test_score  std_test_score  \\\n",
       "0           0.660149           0.687806         0.713109        0.056481   \n",
       "1           0.660149           0.687806         0.713109        0.056481   \n",
       "2           0.660176           0.687963         0.713194        0.056481   \n",
       "3           0.660176           0.687963         0.713194        0.056481   \n",
       "4           0.660276           0.688568         0.713511        0.056474   \n",
       "5           0.660276           0.688568         0.713511        0.056474   \n",
       "6           0.660381           0.689283         0.713865        0.056448   \n",
       "7           0.660381           0.689283         0.713865        0.056448   \n",
       "\n",
       "   rank_test_score  split0_train_score  split1_train_score  \\\n",
       "0                7            0.718084            0.791911   \n",
       "1                7            0.718084            0.791911   \n",
       "2                5            0.718083            0.791911   \n",
       "3                5            0.718083            0.791911   \n",
       "4                3            0.718064            0.791899   \n",
       "5                3            0.718064            0.791899   \n",
       "6                1            0.718010            0.791863   \n",
       "7                1            0.718010            0.791863   \n",
       "\n",
       "   split2_train_score  mean_train_score  std_train_score  \n",
       "0            0.770100          0.760032         0.030969  \n",
       "1            0.770100          0.760032         0.030969  \n",
       "2            0.770100          0.760031         0.030970  \n",
       "3            0.770100          0.760031         0.030970  \n",
       "4            0.770089          0.760017         0.030973  \n",
       "5            0.770089          0.760017         0.030973  \n",
       "6            0.770055          0.759976         0.030982  \n",
       "7            0.770055          0.759976         0.030982  "
      ]
     },
     "execution_count": 47,
     "metadata": {},
     "output_type": "execute_result"
    }
   ],
   "source": [
    "resdf=pd.DataFrame(serchCV.cv_results_)\n",
    "resdf"
   ]
  },
  {
   "cell_type": "code",
   "execution_count": null,
   "metadata": {},
   "outputs": [],
   "source": []
  }
 ],
 "metadata": {
  "kernelspec": {
   "display_name": "ML_38",
   "language": "python",
   "name": "python3"
  },
  "language_info": {
   "codemirror_mode": {
    "name": "ipython",
    "version": 3
   },
   "file_extension": ".py",
   "mimetype": "text/x-python",
   "name": "python",
   "nbconvert_exporter": "python",
   "pygments_lexer": "ipython3",
   "version": "3.8.19"
  }
 },
 "nbformat": 4,
 "nbformat_minor": 2
}
